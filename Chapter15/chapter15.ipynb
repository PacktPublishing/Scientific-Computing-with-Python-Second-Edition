{
 "cells": [
  {
   "cell_type": "markdown",
   "metadata": {},
   "source": [
    "# Scientific Computing with Python (Second Edition)\n",
    "# Chapter 15\n",
    "\n",
    "We start by importing all from Numpy. As explained in Chapter 01 the examples are written assuming this import is initially done."
   ]
  },
  {
   "cell_type": "code",
   "execution_count": 1,
   "metadata": {},
   "outputs": [],
   "source": [
    "from numpy import *"
   ]
  },
  {
   "cell_type": "markdown",
   "metadata": {},
   "source": [
    "### 15.1 Manual testing\n",
    "No code.\n",
    "\n",
    "## 15.2 Automatic testing\n",
    "### 15.2.1 Testing the bisection algorithm"
   ]
  },
  {
   "cell_type": "code",
   "execution_count": 2,
   "metadata": {},
   "outputs": [],
   "source": [
    "def bisect(f, a, b, tol=1.e-8):\n",
    "    \"\"\"\n",
    "    Implementation of the bisection algorithm \n",
    "    f real valued function\n",
    "    a,b interval boundaries (float) with the property \n",
    "    f(a) * f(b) <= 0\n",
    "    tol tolerance (float)\n",
    "    \"\"\"\n",
    "    if f(a) * f(b)> 0:\n",
    "        raise ValueError(\"Incorrect initial interval [a, b]\") \n",
    "    for i in range(100):\n",
    "        c = (a + b) / 2.\n",
    "        if f(a) * f(c) <= 0:\n",
    "            b = c\n",
    "        else:\n",
    "            a = c\n",
    "        if abs(a - b) < tol:\n",
    "            return (a + b) / 2\n",
    "    raise Exception('No root found within the given tolerance {tol}')"
   ]
  },
  {
   "cell_type": "code",
   "execution_count": 3,
   "metadata": {},
   "outputs": [],
   "source": [
    "def test_identity():\n",
    "    result = bisect(lambda x: x, -1., 1.) \n",
    "    expected = 0.\n",
    "    assert allclose(result, expected),'expected zero not found'\n",
    "\n",
    "test_identity()"
   ]
  },
  {
   "cell_type": "code",
   "execution_count": 4,
   "metadata": {},
   "outputs": [],
   "source": [
    "def test_badinput():\n",
    "    try:\n",
    "        bisect(lambda x: x,0.5,1)\n",
    "    except ValueError:\n",
    "        pass\n",
    "    else:\n",
    "        raise AssertionError()\n",
    "\n",
    "test_badinput()"
   ]
  },
  {
   "cell_type": "code",
   "execution_count": 5,
   "metadata": {},
   "outputs": [],
   "source": [
    "def test_equal_boundaries():\n",
    "    result = bisect(lambda x: x, 0., 0.)\n",
    "    expected = 0.\n",
    "    assert allclose(result, expected), \\\n",
    "                   'test equal interval bounds failed'\n",
    "\n",
    "def test_reverse_boundaries():\n",
    "    result = bisect(lambda x: x, 1., -1.)\n",
    "    expected = 0.\n",
    "    assert allclose(result, expected),\\\n",
    "                 'test reverse int_erval bounds failed'\n",
    " \n",
    "test_equal_boundaries()\n",
    "test_reverse_boundaries()\n"
   ]
  },
  {
   "cell_type": "markdown",
   "metadata": {},
   "source": [
    "### 15.2.2 Using the unittest module"
   ]
  },
  {
   "cell_type": "markdown",
   "metadata": {},
   "source": [
    "The code examples differ here slightly from those in the book because of the notebook environment.\n",
    "The difference is in the call \n",
    "`unittest.main(argv=[''], verbosity=2, exit=False)`"
   ]
  },
  {
   "cell_type": "code",
   "execution_count": 6,
   "metadata": {},
   "outputs": [
    {
     "name": "stderr",
     "output_type": "stream",
     "text": [
      "test (__main__.TestIdentity) ... ok\n",
      "\n",
      "----------------------------------------------------------------------\n",
      "Ran 1 test in 0.001s\n",
      "\n",
      "OK\n"
     ]
    }
   ],
   "source": [
    "from bisection import bisect\n",
    "import unittest\n",
    "\n",
    "class TestIdentity(unittest.TestCase):\n",
    "    def test(self):\n",
    "        result = bisect(lambda x: x, -1.2, 1.,tol=1.e-8)\n",
    "        expected = 0.\n",
    "        self.assertAlmostEqual(result, expected)\n",
    "\n",
    "if __name__=='__main__':\n",
    "    unittest.main(argv=[''], verbosity=2, exit=False)"
   ]
  },
  {
   "cell_type": "code",
   "execution_count": 7,
   "metadata": {},
   "outputs": [
    {
     "name": "stderr",
     "output_type": "stream",
     "text": [
      "test (__main__.TestIdentity) ... FAIL\n",
      "\n",
      "======================================================================\n",
      "FAIL: test (__main__.TestIdentity)\n",
      "----------------------------------------------------------------------\n",
      "Traceback (most recent call last):\n",
      "  File \"<ipython-input-7-f3dde6271355>\", line 8, in test\n",
      "    self.assertAlmostEqual(result, expected)\n",
      "AssertionError: 0.00017089843750002018 != 0.0 within 7 places (0.00017089843750002018 difference)\n",
      "\n",
      "----------------------------------------------------------------------\n",
      "Ran 1 test in 0.001s\n",
      "\n",
      "FAILED (failures=1)\n"
     ]
    }
   ],
   "source": [
    "from bisection import bisect\n",
    "import unittest\n",
    "\n",
    "class TestIdentity(unittest.TestCase):\n",
    "    def test(self):\n",
    "        result = bisect(lambda x: x, -1.2, 1.,tol=1.e-3)\n",
    "        expected = 0.\n",
    "        self.assertAlmostEqual(result, expected)\n",
    "\n",
    "if __name__=='__main__':\n",
    "    unittest.main(argv=[''], verbosity=2, exit=False)"
   ]
  },
  {
   "cell_type": "code",
   "execution_count": 8,
   "metadata": {},
   "outputs": [
    {
     "name": "stderr",
     "output_type": "stream",
     "text": [
      "test_exceeded_tolerance (__main__.TestIdentity) ... ok\n",
      "test_functionality (__main__.TestIdentity) ... ok\n",
      "test_reverse_boundaries (__main__.TestIdentity) ... ok\n",
      "\n",
      "----------------------------------------------------------------------\n",
      "Ran 3 tests in 0.002s\n",
      "\n",
      "OK\n"
     ]
    }
   ],
   "source": [
    "import unittest\n",
    "from bisection import bisect\n",
    "\n",
    "class TestIdentity(unittest.TestCase):\n",
    "    def identity_fcn(self,x):\n",
    "        return x\n",
    "    def test_functionality(self):\n",
    "        result = bisect(self.identity_fcn, -1.2, 1.,tol=1.e-8)\n",
    "        expected = 0.\n",
    "        self.assertAlmostEqual(result, expected)\n",
    "    def test_reverse_boundaries(self):\n",
    "        result = bisect(self.identity_fcn, 1., -1.)\n",
    "        expected = 0.\n",
    "        self.assertAlmostEqual(result, expected)\n",
    "    def test_exceeded_tolerance(self):\n",
    "        tol=1.e-80\n",
    "        self.assertRaises(Exception, bisect, self.identity_fcn,\n",
    "                                               -1.2, 1.,tol)\n",
    "if __name__=='__main__':\n",
    "    unittest.main(argv=[''], verbosity=2, exit=False)"
   ]
  },
  {
   "cell_type": "markdown",
   "metadata": {},
   "source": [
    "### 15.2.3 Test setUp and tearDown methods"
   ]
  },
  {
   "cell_type": "code",
   "execution_count": 9,
   "metadata": {},
   "outputs": [],
   "source": [
    "class StringNotFoundException(Exception):\n",
    "    pass\n",
    "\n",
    "def find_string(file, string):\n",
    "    for i,lines in enumerate(file.readlines()):\n",
    "        if string in lines:\n",
    "            return i\n",
    "    raise StringNotFoundException(\n",
    "          f'String {string} not found in File {file.name}.')"
   ]
  },
  {
   "cell_type": "code",
   "execution_count": 10,
   "metadata": {},
   "outputs": [
    {
     "name": "stderr",
     "output_type": "stream",
     "text": [
      "test_exists (__main__.TestFindInFile) ... ok\n",
      "test_not_exists (__main__.TestFindInFile) ... ok\n",
      "test_exceeded_tolerance (__main__.TestIdentity) ... ok\n",
      "test_functionality (__main__.TestIdentity) ... ok\n",
      "test_reverse_boundaries (__main__.TestIdentity) ... ok\n",
      "\n",
      "----------------------------------------------------------------------\n",
      "Ran 5 tests in 0.003s\n",
      "\n",
      "OK\n"
     ]
    }
   ],
   "source": [
    "import unittest\n",
    "import os # used for, for example, deleting files\n",
    "\n",
    "from find_in_file import find_string, StringNotFoundException\n",
    "\n",
    "class TestFindInFile(unittest.TestCase):\n",
    "    def setUp(self):\n",
    "        file = open('test_file.txt', 'w')\n",
    "        file.write('bird')\n",
    "        file.close()\n",
    "        self.file = open('test_file.txt', 'r')\n",
    "    def tearDown(self):\n",
    "        self.file.close()\n",
    "        os.remove(self.file.name)\n",
    "    def test_exists(self):\n",
    "        line_no=find_string(self.file, 'bird')\n",
    "        self.assertEqual(line_no, 0)\n",
    "    def test_not_exists(self):\n",
    "        self.assertRaises(StringNotFoundException, find_string,\n",
    "                                              self.file, 'tiger')\n",
    "\n",
    "if __name__=='__main__':\n",
    "    unittest.main(argv=[''], verbosity=2, exit=False)"
   ]
  },
  {
   "cell_type": "code",
   "execution_count": 11,
   "metadata": {},
   "outputs": [],
   "source": [
    "class Tests(unittest.TestCase):\n",
    "    def checkifzero(self,fcn_with_zero,interval):\n",
    "        result = bisect(fcn_with_zero,*interval,tol=1.e-8)\n",
    "        function_value=fcn_with_zero(result)\n",
    "        expected=0.\n",
    "        self.assertAlmostEqual(function_value, expected)"
   ]
  },
  {
   "cell_type": "code",
   "execution_count": 12,
   "metadata": {},
   "outputs": [
    {
     "name": "stderr",
     "output_type": "stream",
     "text": [
      "test_exists (__main__.TestFindInFile) ... ok\n",
      "test_not_exists (__main__.TestFindInFile) ... ok\n",
      "test_exceeded_tolerance (__main__.TestIdentity) ... ok\n",
      "test_functionality (__main__.TestIdentity) ... ok\n",
      "test_reverse_boundaries (__main__.TestIdentity) ... ok\n",
      "test_cubic (__main__.Tests) ... ok\n",
      "test_identity (__main__.Tests) ... ok\n",
      "test_parabola (__main__.Tests) ... ok\n",
      "\n",
      "----------------------------------------------------------------------\n",
      "Ran 8 tests in 0.006s\n",
      "\n",
      "OK\n"
     ]
    }
   ],
   "source": [
    "test_data=[\n",
    "           {'name':'identity', 'function':lambda x: x,\n",
    "                                     'interval' : [-1.2, 1.]},\n",
    "           {'name':'parabola', 'function':lambda x: x**2-1,\n",
    "                                        'interval' :[0, 10.]},\n",
    "           {'name':'cubic', 'function':lambda x: x**3-2*x**2,\n",
    "                                       'interval':[0.1, 5.]},\n",
    "               ] \n",
    "def make_test_function(dic):\n",
    "    return lambda self :\\\n",
    "        self.checkifzero(dic['function'],dic['interval'])\n",
    "for data in test_data:\n",
    "    setattr(Tests, f\"test_{data['name']}\", make_test_function(data))\n",
    "\n",
    "if __name__=='__main__': \n",
    "    unittest.main(argv=[''], verbosity=2, exit=False)"
   ]
  },
  {
   "cell_type": "markdown",
   "metadata": {},
   "source": [
    "### 15.2.5 Assertion tools\n",
    "No code.\n",
    "### 15.2.6 Float comparisons"
   ]
  },
  {
   "cell_type": "code",
   "execution_count": 13,
   "metadata": {},
   "outputs": [],
   "source": [
    "import numpy.linalg as nla\n",
    "A=random.rand(10,10)\n",
    "[Q,R]=nla.qr(A)"
   ]
  },
  {
   "cell_type": "code",
   "execution_count": 14,
   "metadata": {},
   "outputs": [],
   "source": [
    "import numpy.testing as npt \n",
    "npt.assert_allclose(\n",
    "               Q.T @ Q,identity(Q.shape[0]),atol=1.e-12)"
   ]
  },
  {
   "cell_type": "code",
   "execution_count": 15,
   "metadata": {},
   "outputs": [],
   "source": [
    "import numpy.testing as npt\n",
    "npt.assert_allclose(Q @ R,A)"
   ]
  },
  {
   "cell_type": "code",
   "execution_count": 16,
   "metadata": {},
   "outputs": [
    {
     "name": "stderr",
     "output_type": "stream",
     "text": [
      "test_exists (__main__.TestFindInFile) ... ok\n",
      "test_not_exists (__main__.TestFindInFile) ... ok\n",
      "test_exceeded_tolerance (__main__.TestIdentity) ... ok\n",
      "test_functionality (__main__.TestIdentity) ... ok\n",
      "test_reverse_boundaries (__main__.TestIdentity) ... ok\n",
      "test_orthogonal (__main__.TestQR) ... ok\n",
      "test_sanity (__main__.TestQR) ... ok\n",
      "test_cubic (__main__.Tests) ... ok\n",
      "test_identity (__main__.Tests) ... ok\n",
      "test_parabola (__main__.Tests) ... ok\n",
      "\n",
      "----------------------------------------------------------------------\n",
      "Ran 10 tests in 0.007s\n",
      "\n",
      "OK\n"
     ]
    }
   ],
   "source": [
    "import unittest\n",
    "import numpy.testing as npt\n",
    "from numpy.linalg import qr\n",
    "\n",
    "class TestQR(unittest.TestCase):\n",
    "    def setUp(self):\n",
    "        self.A=random.rand(10,10)\n",
    "        [self.Q,self.R]=qr(self.A)\n",
    "    def test_orthogonal(self):\n",
    "        npt.assert_allclose(\n",
    "            self.Q.T @ self.Q,identity(self.Q.shape[0]),\n",
    "            atol=1.e-12)\n",
    "    def test_sanity(self):\n",
    "            npt.assert_allclose(self.Q @ self.R,self.A)\n",
    "\n",
    "if __name__=='__main__':\n",
    "    unittest.main(argv=[''], verbosity=2, exit=False)"
   ]
  },
  {
   "cell_type": "markdown",
   "metadata": {},
   "source": [
    "###  15.2.7 Unit and functional tests"
   ]
  },
  {
   "cell_type": "code",
   "execution_count": 17,
   "metadata": {},
   "outputs": [],
   "source": [
    "def bisect_step(f, a, b, n):\n",
    "    \"\"\"\n",
    "    Implementation of the bisection algorithm\n",
    "    f real valued function\n",
    "    a,b interval boundaries (float) with the property\n",
    "    f(a) * f(b) <= 0\n",
    "    tol tolerance (float)\n",
    "    \"\"\"\n",
    "    for iteration in range(n):\n",
    "        if f(a) * f(b)> 0:\n",
    "            raise ValueError(\"Incorrect initial interval [a, b]\")\n",
    "        c = (a + b) / 2.\n",
    "        if f(a) * f(c) <= 0:\n",
    "            b = c\n",
    "        else:\n",
    "            a = c\n",
    "    return a,b"
   ]
  },
  {
   "cell_type": "code",
   "execution_count": 18,
   "metadata": {},
   "outputs": [
    {
     "name": "stderr",
     "output_type": "stream",
     "text": [
      "test_exists (__main__.TestFindInFile) ... ok\n",
      "test_not_exists (__main__.TestFindInFile) ... ok\n",
      "test_exceeded_tolerance (__main__.TestIdentity) ... ok\n",
      "test_functionality (__main__.TestIdentity) ... ok\n",
      "test_reverse_boundaries (__main__.TestIdentity) ... ok\n",
      "test_midpoint (__main__.TestMidpoint) ... ok\n",
      "test_orthogonal (__main__.TestQR) ... ok\n",
      "test_sanity (__main__.TestQR) ... ok\n",
      "test_cubic (__main__.Tests) ... ok\n",
      "test_identity (__main__.Tests) ... ok\n",
      "test_parabola (__main__.Tests) ... ok\n",
      "\n",
      "----------------------------------------------------------------------\n",
      "Ran 11 tests in 0.012s\n",
      "\n",
      "OK\n"
     ]
    }
   ],
   "source": [
    "import unittest\n",
    "\n",
    "class TestMidpoint(unittest.TestCase):\n",
    "    def identity_fcn(self,x):\n",
    "        return x\n",
    "    def test_midpoint(self):\n",
    "        a,b = bisect_step(self.identity_fcn,-2.,1.,1)\n",
    "        self.assertAlmostEqual(a,-0.5)\n",
    "        self.assertAlmostEqual(b,1)\n",
    "if __name__=='__main__':\n",
    "    unittest.main(argv=[''], verbosity=2, exit=False)"
   ]
  },
  {
   "cell_type": "markdown",
   "metadata": {},
   "source": [
    "### 15.2.8 Debugging"
   ]
  },
  {
   "cell_type": "code",
   "execution_count": 19,
   "metadata": {},
   "outputs": [],
   "source": [
    "test_case = TestIdentity(methodName='test_reverse_boundaries')"
   ]
  },
  {
   "cell_type": "code",
   "execution_count": 20,
   "metadata": {},
   "outputs": [],
   "source": [
    "test_case.debug()"
   ]
  },
  {
   "cell_type": "markdown",
   "metadata": {},
   "source": [
    "## 15.3 Measuring execution time\n",
    "### 15.3.1 Timing with a magic function"
   ]
  },
  {
   "cell_type": "code",
   "execution_count": 21,
   "metadata": {},
   "outputs": [],
   "source": [
    "A=zeros((1000,1000))\n",
    "A[53,67]=10\n",
    "\n",
    "def find_elements_1(A):\n",
    "    b = []\n",
    "    n, m = A.shape\n",
    "    for i in range(n):\n",
    "        for j in range(m):\n",
    "            if abs(A[i, j]) > 1.e-10:\n",
    "                b.append(A[i, j])\n",
    "    return b\n",
    "\n",
    "def find_elements_2(A):\n",
    "    return [a for a in A.reshape((-1, )) if abs(a) > 1.e-10]\n",
    "\n",
    "def find_elements_3(A):\n",
    "    return [a for a in A.flatten() if abs(a) > 1.e-10]\n",
    " \n",
    "def find_elements_4(A):\n",
    "    return A[where(0.0 != A)]"
   ]
  },
  {
   "cell_type": "code",
   "execution_count": 22,
   "metadata": {},
   "outputs": [
    {
     "name": "stdout",
     "output_type": "stream",
     "text": [
      "257 ms ± 123 µs per loop (mean ± std. dev. of 3 runs, 50 loops each)\n"
     ]
    }
   ],
   "source": [
    "%timeit -n 50 -r 3 find_elements_1(A)"
   ]
  },
  {
   "cell_type": "code",
   "execution_count": 23,
   "metadata": {},
   "outputs": [
    {
     "name": "stdout",
     "output_type": "stream",
     "text": [
      "191 ms ± 406 µs per loop (mean ± std. dev. of 3 runs, 50 loops each)\n"
     ]
    }
   ],
   "source": [
    "%timeit -n 50 -r 3 find_elements_2(A)"
   ]
  },
  {
   "cell_type": "code",
   "execution_count": 24,
   "metadata": {},
   "outputs": [
    {
     "name": "stdout",
     "output_type": "stream",
     "text": [
      "205 ms ± 5.67 ms per loop (mean ± std. dev. of 3 runs, 50 loops each)\n"
     ]
    }
   ],
   "source": [
    "%timeit -n 50 -r 3 find_elements_3(A)"
   ]
  },
  {
   "cell_type": "code",
   "execution_count": 25,
   "metadata": {},
   "outputs": [
    {
     "name": "stdout",
     "output_type": "stream",
     "text": [
      "1.78 ms ± 22.4 µs per loop (mean ± std. dev. of 3 runs, 50 loops each)\n"
     ]
    }
   ],
   "source": [
    "%timeit -n 50 -r 3 find_elements_4(A)"
   ]
  },
  {
   "cell_type": "markdown",
   "metadata": {},
   "source": [
    "### 15.3.2 Timing with the Python module timeit\n"
   ]
  },
  {
   "cell_type": "code",
   "execution_count": 26,
   "metadata": {},
   "outputs": [],
   "source": [
    "import timeit\n",
    "setup_statements=\"\"\"\n",
    "from scipy import zeros\n",
    "from numpy import where\n",
    "A=zeros((1000,1000))\n",
    "A[57,63]=10.\n",
    "\n",
    "def find_elements_1(A):\n",
    "    b = []\n",
    "    n, m = A.shape\n",
    "    for i in range(n):\n",
    "        for j in range(m):\n",
    "            if abs(A[i, j]) > 1.e-10:\n",
    "               b.append(A[i, j])\n",
    "    return b\n",
    "\n",
    "def find_elements_2(A):\n",
    "    return [a for a in A.reshape((-1,)) if abs(a) > 1.e-10]\n",
    "\n",
    "def find_elements_3(A):\n",
    "    return [a for a in A.flatten() if abs(a) > 1.e-10]\n",
    "\n",
    "def find_elements_4(A):\n",
    "    return A[where( 0.0 != A)]\n",
    "\"\"\"\n",
    "experiment_1 = timeit.Timer(stmt = 'find_elements_1(A)',\n",
    "                            setup = setup_statements)\n",
    "experiment_2 = timeit.Timer(stmt = 'find_elements_2(A)',\n",
    "                            setup = setup_statements)\n",
    "experiment_3 = timeit.Timer(stmt = 'find_elements_3(A)',\n",
    "                            setup = setup_statements)\n",
    "experiment_4 = timeit.Timer(stmt = 'find_elements_4(A)',\n",
    "                            setup = setup_statements)"
   ]
  },
  {
   "cell_type": "code",
   "execution_count": 27,
   "metadata": {},
   "outputs": [
    {
     "data": {
      "text/plain": [
       "1.903121208306402"
      ]
     },
     "execution_count": 27,
     "metadata": {},
     "output_type": "execute_result"
    }
   ],
   "source": [
    "t1 = experiment_1.repeat(3,5) \n",
    "t2 = experiment_2.repeat(3,5) \n",
    "t3 = experiment_3.repeat(3,5) \n",
    "t4 = experiment_4.repeat(3,5) \n",
    "# Results per loop in ms\n",
    "min(t1)*1000/5 # 615 ms\n",
    "min(t2)*1000/5 # 543 ms\n",
    "min(t3)*1000/5 # 546 ms\n",
    "min(t4)*1000/5 # 7.26 ms"
   ]
  },
  {
   "cell_type": "markdown",
   "metadata": {},
   "source": [
    "### 15.3.3 Timing with a context manager"
   ]
  },
  {
   "cell_type": "code",
   "execution_count": 28,
   "metadata": {},
   "outputs": [],
   "source": [
    "import time\n",
    "class Timer:\n",
    "    def __enter__(self):\n",
    "        self.start = time.time()\n",
    "        # return self\n",
    "    def __exit__(self, ty, val, tb):\n",
    "        end = time.time()\n",
    "        self.elapsed=end-self.start\n",
    "        print(f'Time elapsed {self.elapsed} seconds') \n",
    "        return False"
   ]
  },
  {
   "cell_type": "code",
   "execution_count": 29,
   "metadata": {},
   "outputs": [
    {
     "name": "stdout",
     "output_type": "stream",
     "text": [
      "Time elapsed 0.2798018455505371 seconds\n"
     ]
    }
   ],
   "source": [
    "with Timer():\n",
    "  find_elements_1(A)"
   ]
  },
  {
   "cell_type": "code",
   "execution_count": 30,
   "metadata": {},
   "outputs": [
    {
     "name": "stdout",
     "output_type": "stream",
     "text": [
      "Time elapsed 0.23056364059448242 seconds\n"
     ]
    }
   ],
   "source": [
    "with Timer():\n",
    "  find_elements_2(A)"
   ]
  },
  {
   "cell_type": "code",
   "execution_count": 31,
   "metadata": {},
   "outputs": [
    {
     "name": "stdout",
     "output_type": "stream",
     "text": [
      "Time elapsed 0.21068072319030762 seconds\n"
     ]
    }
   ],
   "source": [
    "with Timer():\n",
    "  find_elements_3(A)"
   ]
  },
  {
   "cell_type": "code",
   "execution_count": 32,
   "metadata": {},
   "outputs": [
    {
     "name": "stdout",
     "output_type": "stream",
     "text": [
      "Time elapsed 0.002699613571166992 seconds\n"
     ]
    }
   ],
   "source": [
    "with Timer():\n",
    "  find_elements_4(A)"
   ]
  }
 ],
 "metadata": {
  "kernelspec": {
   "display_name": "Python 3",
   "language": "python",
   "name": "python3"
  },
  "language_info": {
   "codemirror_mode": {
    "name": "ipython",
    "version": 3
   },
   "file_extension": ".py",
   "mimetype": "text/x-python",
   "name": "python",
   "nbconvert_exporter": "python",
   "pygments_lexer": "ipython3",
   "version": "3.7.6"
  }
 },
 "nbformat": 4,
 "nbformat_minor": 4
}
