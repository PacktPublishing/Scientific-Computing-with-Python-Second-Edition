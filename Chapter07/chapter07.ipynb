{
 "cells": [
  {
   "cell_type": "markdown",
   "metadata": {},
   "source": [
    "# Scientific Computing with Python (Second Edition)\n",
    "\n",
    "# Chapter 07\n",
    "\n",
    "*We start by importing all from Numpy. As explained in Chapter 01 the examples are written assuming this import is initially done.*\n"
   ]
  },
  {
   "cell_type": "code",
   "execution_count": 1,
   "metadata": {},
   "outputs": [],
   "source": [
    "from numpy import *"
   ]
  },
  {
   "cell_type": "markdown",
   "metadata": {},
   "source": [
    "## 7.1 Functions in mathematics and functions in Python"
   ]
  },
  {
   "cell_type": "code",
   "execution_count": 2,
   "metadata": {},
   "outputs": [],
   "source": [
    "def subtract(x1, x2):\n",
    "    return x1 - x2"
   ]
  },
  {
   "cell_type": "code",
   "execution_count": 3,
   "metadata": {},
   "outputs": [
    {
     "data": {
      "text/plain": [
       "0.7000000000000002"
      ]
     },
     "execution_count": 3,
     "metadata": {},
     "output_type": "execute_result"
    }
   ],
   "source": [
    "r = subtract(5.0, 4.3)\n",
    "r"
   ]
  },
  {
   "cell_type": "markdown",
   "metadata": {},
   "source": [
    "## 7.2 Parameters and arguments\n",
    "### 7.2.1 Passing arguments – by position and by keyword\n"
   ]
  },
  {
   "cell_type": "code",
   "execution_count": 4,
   "metadata": {},
   "outputs": [
    {
     "data": {
      "text/plain": [
       "2"
      ]
     },
     "execution_count": 4,
     "metadata": {},
     "output_type": "execute_result"
    }
   ],
   "source": [
    "z = 3 \n",
    "e = subtract(5,z)\n",
    "e"
   ]
  },
  {
   "cell_type": "code",
   "execution_count": 5,
   "metadata": {},
   "outputs": [
    {
     "data": {
      "text/plain": [
       "2"
      ]
     },
     "execution_count": 5,
     "metadata": {},
     "output_type": "execute_result"
    }
   ],
   "source": [
    "z = 3 \n",
    "e = subtract(x2 = z, x1 = 5)\n",
    "e"
   ]
  },
  {
   "cell_type": "markdown",
   "metadata": {},
   "source": [
    "### 7.2.2 Changing arguments"
   ]
  },
  {
   "cell_type": "code",
   "execution_count": 6,
   "metadata": {},
   "outputs": [
    {
     "data": {
      "text/plain": [
       "20.0"
      ]
     },
     "execution_count": 6,
     "metadata": {},
     "output_type": "execute_result"
    }
   ],
   "source": [
    "def subtract(x1, x2):\n",
    "    z = x1 - x2\n",
    "    x2 = 50.\n",
    "    return z\n",
    "a = 20.\n",
    "b = subtract(10, a)    # returns -10\n",
    "a    # still has the value 20"
   ]
  },
  {
   "cell_type": "code",
   "execution_count": 7,
   "metadata": {},
   "outputs": [
    {
     "data": {
      "text/plain": [
       "[10, 50.0]"
      ]
     },
     "execution_count": 7,
     "metadata": {},
     "output_type": "execute_result"
    }
   ],
   "source": [
    "def subtract(x):\n",
    "    z = x[0] - x[1]\n",
    "    x[1] = 50.\n",
    "    return z\n",
    "a = [10,20]\n",
    "b = subtract(a)    # returns -10\n",
    "a    # is now [10, 50.0]"
   ]
  },
  {
   "cell_type": "markdown",
   "metadata": {},
   "source": [
    "### 7.2.3 Access to variables defined outside the local namespace"
   ]
  },
  {
   "cell_type": "code",
   "execution_count": 8,
   "metadata": {},
   "outputs": [],
   "source": [
    "import numpy as np # here the variable np is defined\n",
    "def sqrt(x):\n",
    "    return np.sqrt(x) # we use np inside the function"
   ]
  },
  {
   "cell_type": "code",
   "execution_count": 9,
   "metadata": {},
   "outputs": [],
   "source": [
    "a = 3\n",
    "def multiply(x):\n",
    "    return a * x # bad style: access to the variable a defined outside"
   ]
  },
  {
   "cell_type": "code",
   "execution_count": 10,
   "metadata": {},
   "outputs": [
    {
     "data": {
      "text/plain": [
       "12"
      ]
     },
     "execution_count": 10,
     "metadata": {},
     "output_type": "execute_result"
    }
   ],
   "source": [
    "a=3\n",
    "multiply(4)  # returns 12"
   ]
  },
  {
   "cell_type": "code",
   "execution_count": 11,
   "metadata": {},
   "outputs": [
    {
     "data": {
      "text/plain": [
       "16"
      ]
     },
     "execution_count": 11,
     "metadata": {},
     "output_type": "execute_result"
    }
   ],
   "source": [
    "a=4  \n",
    "multiply(4)  # returns 16"
   ]
  },
  {
   "cell_type": "code",
   "execution_count": 12,
   "metadata": {},
   "outputs": [],
   "source": [
    "def multiply(x, a):\n",
    "    return a * x"
   ]
  },
  {
   "cell_type": "markdown",
   "metadata": {},
   "source": [
    "### 7.2.4 Default arguments"
   ]
  },
  {
   "cell_type": "code",
   "execution_count": 13,
   "metadata": {},
   "outputs": [
    {
     "data": {
      "text/plain": [
       "1.7320508075688772"
      ]
     },
     "execution_count": 13,
     "metadata": {},
     "output_type": "execute_result"
    }
   ],
   "source": [
    "import scipy.linalg as sl\n",
    "sl.norm(identity(3))\n",
    "sl.norm(identity(3), ord = 'fro')\n",
    "sl.norm(identity(3), 'fro')"
   ]
  },
  {
   "cell_type": "code",
   "execution_count": 14,
   "metadata": {},
   "outputs": [],
   "source": [
    "def subtract(x1, x2 = 0): \n",
    "    return x1 - x2"
   ]
  },
  {
   "cell_type": "code",
   "execution_count": 15,
   "metadata": {},
   "outputs": [
    {
     "data": {
      "text/plain": [
       "[1]"
      ]
     },
     "execution_count": 15,
     "metadata": {},
     "output_type": "execute_result"
    }
   ],
   "source": [
    "def my_list(x1, x2 = []):\n",
    "    x2.append(x1)\n",
    "    return x2\n",
    "my_list(1)  # returns [1]"
   ]
  },
  {
   "cell_type": "code",
   "execution_count": 16,
   "metadata": {},
   "outputs": [
    {
     "data": {
      "text/plain": [
       "[1, 2]"
      ]
     },
     "execution_count": 16,
     "metadata": {},
     "output_type": "execute_result"
    }
   ],
   "source": [
    "my_list(2)  # returns [1,2]"
   ]
  },
  {
   "cell_type": "markdown",
   "metadata": {},
   "source": [
    "### 7.2.5 Variable number of arguments"
   ]
  },
  {
   "cell_type": "code",
   "execution_count": 17,
   "metadata": {},
   "outputs": [],
   "source": [
    "data = [[1,2],[3,4]]    \n",
    "style = dict({'linewidth':3,'marker':'o','color':'green'})"
   ]
  },
  {
   "cell_type": "code",
   "execution_count": 18,
   "metadata": {},
   "outputs": [],
   "source": [
    "%matplotlib notebook\n",
    "from matplotlib.pyplot import plot"
   ]
  },
  {
   "cell_type": "code",
   "execution_count": 19,
   "metadata": {},
   "outputs": [
    {
     "data": {
      "application/javascript": [
       "/* Put everything inside the global mpl namespace */\n",
       "window.mpl = {};\n",
       "\n",
       "\n",
       "mpl.get_websocket_type = function() {\n",
       "    if (typeof(WebSocket) !== 'undefined') {\n",
       "        return WebSocket;\n",
       "    } else if (typeof(MozWebSocket) !== 'undefined') {\n",
       "        return MozWebSocket;\n",
       "    } else {\n",
       "        alert('Your browser does not have WebSocket support. ' +\n",
       "              'Please try Chrome, Safari or Firefox ≥ 6. ' +\n",
       "              'Firefox 4 and 5 are also supported but you ' +\n",
       "              'have to enable WebSockets in about:config.');\n",
       "    };\n",
       "}\n",
       "\n",
       "mpl.figure = function(figure_id, websocket, ondownload, parent_element) {\n",
       "    this.id = figure_id;\n",
       "\n",
       "    this.ws = websocket;\n",
       "\n",
       "    this.supports_binary = (this.ws.binaryType != undefined);\n",
       "\n",
       "    if (!this.supports_binary) {\n",
       "        var warnings = document.getElementById(\"mpl-warnings\");\n",
       "        if (warnings) {\n",
       "            warnings.style.display = 'block';\n",
       "            warnings.textContent = (\n",
       "                \"This browser does not support binary websocket messages. \" +\n",
       "                    \"Performance may be slow.\");\n",
       "        }\n",
       "    }\n",
       "\n",
       "    this.imageObj = new Image();\n",
       "\n",
       "    this.context = undefined;\n",
       "    this.message = undefined;\n",
       "    this.canvas = undefined;\n",
       "    this.rubberband_canvas = undefined;\n",
       "    this.rubberband_context = undefined;\n",
       "    this.format_dropdown = undefined;\n",
       "\n",
       "    this.image_mode = 'full';\n",
       "\n",
       "    this.root = $('<div/>');\n",
       "    this._root_extra_style(this.root)\n",
       "    this.root.attr('style', 'display: inline-block');\n",
       "\n",
       "    $(parent_element).append(this.root);\n",
       "\n",
       "    this._init_header(this);\n",
       "    this._init_canvas(this);\n",
       "    this._init_toolbar(this);\n",
       "\n",
       "    var fig = this;\n",
       "\n",
       "    this.waiting = false;\n",
       "\n",
       "    this.ws.onopen =  function () {\n",
       "            fig.send_message(\"supports_binary\", {value: fig.supports_binary});\n",
       "            fig.send_message(\"send_image_mode\", {});\n",
       "            if (mpl.ratio != 1) {\n",
       "                fig.send_message(\"set_dpi_ratio\", {'dpi_ratio': mpl.ratio});\n",
       "            }\n",
       "            fig.send_message(\"refresh\", {});\n",
       "        }\n",
       "\n",
       "    this.imageObj.onload = function() {\n",
       "            if (fig.image_mode == 'full') {\n",
       "                // Full images could contain transparency (where diff images\n",
       "                // almost always do), so we need to clear the canvas so that\n",
       "                // there is no ghosting.\n",
       "                fig.context.clearRect(0, 0, fig.canvas.width, fig.canvas.height);\n",
       "            }\n",
       "            fig.context.drawImage(fig.imageObj, 0, 0);\n",
       "        };\n",
       "\n",
       "    this.imageObj.onunload = function() {\n",
       "        fig.ws.close();\n",
       "    }\n",
       "\n",
       "    this.ws.onmessage = this._make_on_message_function(this);\n",
       "\n",
       "    this.ondownload = ondownload;\n",
       "}\n",
       "\n",
       "mpl.figure.prototype._init_header = function() {\n",
       "    var titlebar = $(\n",
       "        '<div class=\"ui-dialog-titlebar ui-widget-header ui-corner-all ' +\n",
       "        'ui-helper-clearfix\"/>');\n",
       "    var titletext = $(\n",
       "        '<div class=\"ui-dialog-title\" style=\"width: 100%; ' +\n",
       "        'text-align: center; padding: 3px;\"/>');\n",
       "    titlebar.append(titletext)\n",
       "    this.root.append(titlebar);\n",
       "    this.header = titletext[0];\n",
       "}\n",
       "\n",
       "\n",
       "\n",
       "mpl.figure.prototype._canvas_extra_style = function(canvas_div) {\n",
       "\n",
       "}\n",
       "\n",
       "\n",
       "mpl.figure.prototype._root_extra_style = function(canvas_div) {\n",
       "\n",
       "}\n",
       "\n",
       "mpl.figure.prototype._init_canvas = function() {\n",
       "    var fig = this;\n",
       "\n",
       "    var canvas_div = $('<div/>');\n",
       "\n",
       "    canvas_div.attr('style', 'position: relative; clear: both; outline: 0');\n",
       "\n",
       "    function canvas_keyboard_event(event) {\n",
       "        return fig.key_event(event, event['data']);\n",
       "    }\n",
       "\n",
       "    canvas_div.keydown('key_press', canvas_keyboard_event);\n",
       "    canvas_div.keyup('key_release', canvas_keyboard_event);\n",
       "    this.canvas_div = canvas_div\n",
       "    this._canvas_extra_style(canvas_div)\n",
       "    this.root.append(canvas_div);\n",
       "\n",
       "    var canvas = $('<canvas/>');\n",
       "    canvas.addClass('mpl-canvas');\n",
       "    canvas.attr('style', \"left: 0; top: 0; z-index: 0; outline: 0\")\n",
       "\n",
       "    this.canvas = canvas[0];\n",
       "    this.context = canvas[0].getContext(\"2d\");\n",
       "\n",
       "    var backingStore = this.context.backingStorePixelRatio ||\n",
       "\tthis.context.webkitBackingStorePixelRatio ||\n",
       "\tthis.context.mozBackingStorePixelRatio ||\n",
       "\tthis.context.msBackingStorePixelRatio ||\n",
       "\tthis.context.oBackingStorePixelRatio ||\n",
       "\tthis.context.backingStorePixelRatio || 1;\n",
       "\n",
       "    mpl.ratio = (window.devicePixelRatio || 1) / backingStore;\n",
       "\n",
       "    var rubberband = $('<canvas/>');\n",
       "    rubberband.attr('style', \"position: absolute; left: 0; top: 0; z-index: 1;\")\n",
       "\n",
       "    var pass_mouse_events = true;\n",
       "\n",
       "    canvas_div.resizable({\n",
       "        start: function(event, ui) {\n",
       "            pass_mouse_events = false;\n",
       "        },\n",
       "        resize: function(event, ui) {\n",
       "            fig.request_resize(ui.size.width, ui.size.height);\n",
       "        },\n",
       "        stop: function(event, ui) {\n",
       "            pass_mouse_events = true;\n",
       "            fig.request_resize(ui.size.width, ui.size.height);\n",
       "        },\n",
       "    });\n",
       "\n",
       "    function mouse_event_fn(event) {\n",
       "        if (pass_mouse_events)\n",
       "            return fig.mouse_event(event, event['data']);\n",
       "    }\n",
       "\n",
       "    rubberband.mousedown('button_press', mouse_event_fn);\n",
       "    rubberband.mouseup('button_release', mouse_event_fn);\n",
       "    // Throttle sequential mouse events to 1 every 20ms.\n",
       "    rubberband.mousemove('motion_notify', mouse_event_fn);\n",
       "\n",
       "    rubberband.mouseenter('figure_enter', mouse_event_fn);\n",
       "    rubberband.mouseleave('figure_leave', mouse_event_fn);\n",
       "\n",
       "    canvas_div.on(\"wheel\", function (event) {\n",
       "        event = event.originalEvent;\n",
       "        event['data'] = 'scroll'\n",
       "        if (event.deltaY < 0) {\n",
       "            event.step = 1;\n",
       "        } else {\n",
       "            event.step = -1;\n",
       "        }\n",
       "        mouse_event_fn(event);\n",
       "    });\n",
       "\n",
       "    canvas_div.append(canvas);\n",
       "    canvas_div.append(rubberband);\n",
       "\n",
       "    this.rubberband = rubberband;\n",
       "    this.rubberband_canvas = rubberband[0];\n",
       "    this.rubberband_context = rubberband[0].getContext(\"2d\");\n",
       "    this.rubberband_context.strokeStyle = \"#000000\";\n",
       "\n",
       "    this._resize_canvas = function(width, height) {\n",
       "        // Keep the size of the canvas, canvas container, and rubber band\n",
       "        // canvas in synch.\n",
       "        canvas_div.css('width', width)\n",
       "        canvas_div.css('height', height)\n",
       "\n",
       "        canvas.attr('width', width * mpl.ratio);\n",
       "        canvas.attr('height', height * mpl.ratio);\n",
       "        canvas.attr('style', 'width: ' + width + 'px; height: ' + height + 'px;');\n",
       "\n",
       "        rubberband.attr('width', width);\n",
       "        rubberband.attr('height', height);\n",
       "    }\n",
       "\n",
       "    // Set the figure to an initial 600x600px, this will subsequently be updated\n",
       "    // upon first draw.\n",
       "    this._resize_canvas(600, 600);\n",
       "\n",
       "    // Disable right mouse context menu.\n",
       "    $(this.rubberband_canvas).bind(\"contextmenu\",function(e){\n",
       "        return false;\n",
       "    });\n",
       "\n",
       "    function set_focus () {\n",
       "        canvas.focus();\n",
       "        canvas_div.focus();\n",
       "    }\n",
       "\n",
       "    window.setTimeout(set_focus, 100);\n",
       "}\n",
       "\n",
       "mpl.figure.prototype._init_toolbar = function() {\n",
       "    var fig = this;\n",
       "\n",
       "    var nav_element = $('<div/>');\n",
       "    nav_element.attr('style', 'width: 100%');\n",
       "    this.root.append(nav_element);\n",
       "\n",
       "    // Define a callback function for later on.\n",
       "    function toolbar_event(event) {\n",
       "        return fig.toolbar_button_onclick(event['data']);\n",
       "    }\n",
       "    function toolbar_mouse_event(event) {\n",
       "        return fig.toolbar_button_onmouseover(event['data']);\n",
       "    }\n",
       "\n",
       "    for(var toolbar_ind in mpl.toolbar_items) {\n",
       "        var name = mpl.toolbar_items[toolbar_ind][0];\n",
       "        var tooltip = mpl.toolbar_items[toolbar_ind][1];\n",
       "        var image = mpl.toolbar_items[toolbar_ind][2];\n",
       "        var method_name = mpl.toolbar_items[toolbar_ind][3];\n",
       "\n",
       "        if (!name) {\n",
       "            // put a spacer in here.\n",
       "            continue;\n",
       "        }\n",
       "        var button = $('<button/>');\n",
       "        button.addClass('ui-button ui-widget ui-state-default ui-corner-all ' +\n",
       "                        'ui-button-icon-only');\n",
       "        button.attr('role', 'button');\n",
       "        button.attr('aria-disabled', 'false');\n",
       "        button.click(method_name, toolbar_event);\n",
       "        button.mouseover(tooltip, toolbar_mouse_event);\n",
       "\n",
       "        var icon_img = $('<span/>');\n",
       "        icon_img.addClass('ui-button-icon-primary ui-icon');\n",
       "        icon_img.addClass(image);\n",
       "        icon_img.addClass('ui-corner-all');\n",
       "\n",
       "        var tooltip_span = $('<span/>');\n",
       "        tooltip_span.addClass('ui-button-text');\n",
       "        tooltip_span.html(tooltip);\n",
       "\n",
       "        button.append(icon_img);\n",
       "        button.append(tooltip_span);\n",
       "\n",
       "        nav_element.append(button);\n",
       "    }\n",
       "\n",
       "    var fmt_picker_span = $('<span/>');\n",
       "\n",
       "    var fmt_picker = $('<select/>');\n",
       "    fmt_picker.addClass('mpl-toolbar-option ui-widget ui-widget-content');\n",
       "    fmt_picker_span.append(fmt_picker);\n",
       "    nav_element.append(fmt_picker_span);\n",
       "    this.format_dropdown = fmt_picker[0];\n",
       "\n",
       "    for (var ind in mpl.extensions) {\n",
       "        var fmt = mpl.extensions[ind];\n",
       "        var option = $(\n",
       "            '<option/>', {selected: fmt === mpl.default_extension}).html(fmt);\n",
       "        fmt_picker.append(option);\n",
       "    }\n",
       "\n",
       "    // Add hover states to the ui-buttons\n",
       "    $( \".ui-button\" ).hover(\n",
       "        function() { $(this).addClass(\"ui-state-hover\");},\n",
       "        function() { $(this).removeClass(\"ui-state-hover\");}\n",
       "    );\n",
       "\n",
       "    var status_bar = $('<span class=\"mpl-message\"/>');\n",
       "    nav_element.append(status_bar);\n",
       "    this.message = status_bar[0];\n",
       "}\n",
       "\n",
       "mpl.figure.prototype.request_resize = function(x_pixels, y_pixels) {\n",
       "    // Request matplotlib to resize the figure. Matplotlib will then trigger a resize in the client,\n",
       "    // which will in turn request a refresh of the image.\n",
       "    this.send_message('resize', {'width': x_pixels, 'height': y_pixels});\n",
       "}\n",
       "\n",
       "mpl.figure.prototype.send_message = function(type, properties) {\n",
       "    properties['type'] = type;\n",
       "    properties['figure_id'] = this.id;\n",
       "    this.ws.send(JSON.stringify(properties));\n",
       "}\n",
       "\n",
       "mpl.figure.prototype.send_draw_message = function() {\n",
       "    if (!this.waiting) {\n",
       "        this.waiting = true;\n",
       "        this.ws.send(JSON.stringify({type: \"draw\", figure_id: this.id}));\n",
       "    }\n",
       "}\n",
       "\n",
       "\n",
       "mpl.figure.prototype.handle_save = function(fig, msg) {\n",
       "    var format_dropdown = fig.format_dropdown;\n",
       "    var format = format_dropdown.options[format_dropdown.selectedIndex].value;\n",
       "    fig.ondownload(fig, format);\n",
       "}\n",
       "\n",
       "\n",
       "mpl.figure.prototype.handle_resize = function(fig, msg) {\n",
       "    var size = msg['size'];\n",
       "    if (size[0] != fig.canvas.width || size[1] != fig.canvas.height) {\n",
       "        fig._resize_canvas(size[0], size[1]);\n",
       "        fig.send_message(\"refresh\", {});\n",
       "    };\n",
       "}\n",
       "\n",
       "mpl.figure.prototype.handle_rubberband = function(fig, msg) {\n",
       "    var x0 = msg['x0'] / mpl.ratio;\n",
       "    var y0 = (fig.canvas.height - msg['y0']) / mpl.ratio;\n",
       "    var x1 = msg['x1'] / mpl.ratio;\n",
       "    var y1 = (fig.canvas.height - msg['y1']) / mpl.ratio;\n",
       "    x0 = Math.floor(x0) + 0.5;\n",
       "    y0 = Math.floor(y0) + 0.5;\n",
       "    x1 = Math.floor(x1) + 0.5;\n",
       "    y1 = Math.floor(y1) + 0.5;\n",
       "    var min_x = Math.min(x0, x1);\n",
       "    var min_y = Math.min(y0, y1);\n",
       "    var width = Math.abs(x1 - x0);\n",
       "    var height = Math.abs(y1 - y0);\n",
       "\n",
       "    fig.rubberband_context.clearRect(\n",
       "        0, 0, fig.canvas.width / mpl.ratio, fig.canvas.height / mpl.ratio);\n",
       "\n",
       "    fig.rubberband_context.strokeRect(min_x, min_y, width, height);\n",
       "}\n",
       "\n",
       "mpl.figure.prototype.handle_figure_label = function(fig, msg) {\n",
       "    // Updates the figure title.\n",
       "    fig.header.textContent = msg['label'];\n",
       "}\n",
       "\n",
       "mpl.figure.prototype.handle_cursor = function(fig, msg) {\n",
       "    var cursor = msg['cursor'];\n",
       "    switch(cursor)\n",
       "    {\n",
       "    case 0:\n",
       "        cursor = 'pointer';\n",
       "        break;\n",
       "    case 1:\n",
       "        cursor = 'default';\n",
       "        break;\n",
       "    case 2:\n",
       "        cursor = 'crosshair';\n",
       "        break;\n",
       "    case 3:\n",
       "        cursor = 'move';\n",
       "        break;\n",
       "    }\n",
       "    fig.rubberband_canvas.style.cursor = cursor;\n",
       "}\n",
       "\n",
       "mpl.figure.prototype.handle_message = function(fig, msg) {\n",
       "    fig.message.textContent = msg['message'];\n",
       "}\n",
       "\n",
       "mpl.figure.prototype.handle_draw = function(fig, msg) {\n",
       "    // Request the server to send over a new figure.\n",
       "    fig.send_draw_message();\n",
       "}\n",
       "\n",
       "mpl.figure.prototype.handle_image_mode = function(fig, msg) {\n",
       "    fig.image_mode = msg['mode'];\n",
       "}\n",
       "\n",
       "mpl.figure.prototype.updated_canvas_event = function() {\n",
       "    // Called whenever the canvas gets updated.\n",
       "    this.send_message(\"ack\", {});\n",
       "}\n",
       "\n",
       "// A function to construct a web socket function for onmessage handling.\n",
       "// Called in the figure constructor.\n",
       "mpl.figure.prototype._make_on_message_function = function(fig) {\n",
       "    return function socket_on_message(evt) {\n",
       "        if (evt.data instanceof Blob) {\n",
       "            /* FIXME: We get \"Resource interpreted as Image but\n",
       "             * transferred with MIME type text/plain:\" errors on\n",
       "             * Chrome.  But how to set the MIME type?  It doesn't seem\n",
       "             * to be part of the websocket stream */\n",
       "            evt.data.type = \"image/png\";\n",
       "\n",
       "            /* Free the memory for the previous frames */\n",
       "            if (fig.imageObj.src) {\n",
       "                (window.URL || window.webkitURL).revokeObjectURL(\n",
       "                    fig.imageObj.src);\n",
       "            }\n",
       "\n",
       "            fig.imageObj.src = (window.URL || window.webkitURL).createObjectURL(\n",
       "                evt.data);\n",
       "            fig.updated_canvas_event();\n",
       "            fig.waiting = false;\n",
       "            return;\n",
       "        }\n",
       "        else if (typeof evt.data === 'string' && evt.data.slice(0, 21) == \"data:image/png;base64\") {\n",
       "            fig.imageObj.src = evt.data;\n",
       "            fig.updated_canvas_event();\n",
       "            fig.waiting = false;\n",
       "            return;\n",
       "        }\n",
       "\n",
       "        var msg = JSON.parse(evt.data);\n",
       "        var msg_type = msg['type'];\n",
       "\n",
       "        // Call the  \"handle_{type}\" callback, which takes\n",
       "        // the figure and JSON message as its only arguments.\n",
       "        try {\n",
       "            var callback = fig[\"handle_\" + msg_type];\n",
       "        } catch (e) {\n",
       "            console.log(\"No handler for the '\" + msg_type + \"' message type: \", msg);\n",
       "            return;\n",
       "        }\n",
       "\n",
       "        if (callback) {\n",
       "            try {\n",
       "                // console.log(\"Handling '\" + msg_type + \"' message: \", msg);\n",
       "                callback(fig, msg);\n",
       "            } catch (e) {\n",
       "                console.log(\"Exception inside the 'handler_\" + msg_type + \"' callback:\", e, e.stack, msg);\n",
       "            }\n",
       "        }\n",
       "    };\n",
       "}\n",
       "\n",
       "// from http://stackoverflow.com/questions/1114465/getting-mouse-location-in-canvas\n",
       "mpl.findpos = function(e) {\n",
       "    //this section is from http://www.quirksmode.org/js/events_properties.html\n",
       "    var targ;\n",
       "    if (!e)\n",
       "        e = window.event;\n",
       "    if (e.target)\n",
       "        targ = e.target;\n",
       "    else if (e.srcElement)\n",
       "        targ = e.srcElement;\n",
       "    if (targ.nodeType == 3) // defeat Safari bug\n",
       "        targ = targ.parentNode;\n",
       "\n",
       "    // jQuery normalizes the pageX and pageY\n",
       "    // pageX,Y are the mouse positions relative to the document\n",
       "    // offset() returns the position of the element relative to the document\n",
       "    var x = e.pageX - $(targ).offset().left;\n",
       "    var y = e.pageY - $(targ).offset().top;\n",
       "\n",
       "    return {\"x\": x, \"y\": y};\n",
       "};\n",
       "\n",
       "/*\n",
       " * return a copy of an object with only non-object keys\n",
       " * we need this to avoid circular references\n",
       " * http://stackoverflow.com/a/24161582/3208463\n",
       " */\n",
       "function simpleKeys (original) {\n",
       "  return Object.keys(original).reduce(function (obj, key) {\n",
       "    if (typeof original[key] !== 'object')\n",
       "        obj[key] = original[key]\n",
       "    return obj;\n",
       "  }, {});\n",
       "}\n",
       "\n",
       "mpl.figure.prototype.mouse_event = function(event, name) {\n",
       "    var canvas_pos = mpl.findpos(event)\n",
       "\n",
       "    if (name === 'button_press')\n",
       "    {\n",
       "        this.canvas.focus();\n",
       "        this.canvas_div.focus();\n",
       "    }\n",
       "\n",
       "    var x = canvas_pos.x * mpl.ratio;\n",
       "    var y = canvas_pos.y * mpl.ratio;\n",
       "\n",
       "    this.send_message(name, {x: x, y: y, button: event.button,\n",
       "                             step: event.step,\n",
       "                             guiEvent: simpleKeys(event)});\n",
       "\n",
       "    /* This prevents the web browser from automatically changing to\n",
       "     * the text insertion cursor when the button is pressed.  We want\n",
       "     * to control all of the cursor setting manually through the\n",
       "     * 'cursor' event from matplotlib */\n",
       "    event.preventDefault();\n",
       "    return false;\n",
       "}\n",
       "\n",
       "mpl.figure.prototype._key_event_extra = function(event, name) {\n",
       "    // Handle any extra behaviour associated with a key event\n",
       "}\n",
       "\n",
       "mpl.figure.prototype.key_event = function(event, name) {\n",
       "\n",
       "    // Prevent repeat events\n",
       "    if (name == 'key_press')\n",
       "    {\n",
       "        if (event.which === this._key)\n",
       "            return;\n",
       "        else\n",
       "            this._key = event.which;\n",
       "    }\n",
       "    if (name == 'key_release')\n",
       "        this._key = null;\n",
       "\n",
       "    var value = '';\n",
       "    if (event.ctrlKey && event.which != 17)\n",
       "        value += \"ctrl+\";\n",
       "    if (event.altKey && event.which != 18)\n",
       "        value += \"alt+\";\n",
       "    if (event.shiftKey && event.which != 16)\n",
       "        value += \"shift+\";\n",
       "\n",
       "    value += 'k';\n",
       "    value += event.which.toString();\n",
       "\n",
       "    this._key_event_extra(event, name);\n",
       "\n",
       "    this.send_message(name, {key: value,\n",
       "                             guiEvent: simpleKeys(event)});\n",
       "    return false;\n",
       "}\n",
       "\n",
       "mpl.figure.prototype.toolbar_button_onclick = function(name) {\n",
       "    if (name == 'download') {\n",
       "        this.handle_save(this, null);\n",
       "    } else {\n",
       "        this.send_message(\"toolbar_button\", {name: name});\n",
       "    }\n",
       "};\n",
       "\n",
       "mpl.figure.prototype.toolbar_button_onmouseover = function(tooltip) {\n",
       "    this.message.textContent = tooltip;\n",
       "};\n",
       "mpl.toolbar_items = [[\"Home\", \"Reset original view\", \"fa fa-home icon-home\", \"home\"], [\"Back\", \"Back to previous view\", \"fa fa-arrow-left icon-arrow-left\", \"back\"], [\"Forward\", \"Forward to next view\", \"fa fa-arrow-right icon-arrow-right\", \"forward\"], [\"\", \"\", \"\", \"\"], [\"Pan\", \"Pan axes with left mouse, zoom with right\", \"fa fa-arrows icon-move\", \"pan\"], [\"Zoom\", \"Zoom to rectangle\", \"fa fa-square-o icon-check-empty\", \"zoom\"], [\"\", \"\", \"\", \"\"], [\"Download\", \"Download plot\", \"fa fa-floppy-o icon-save\", \"download\"]];\n",
       "\n",
       "mpl.extensions = [\"eps\", \"jpeg\", \"pdf\", \"png\", \"ps\", \"raw\", \"svg\", \"tif\"];\n",
       "\n",
       "mpl.default_extension = \"png\";var comm_websocket_adapter = function(comm) {\n",
       "    // Create a \"websocket\"-like object which calls the given IPython comm\n",
       "    // object with the appropriate methods. Currently this is a non binary\n",
       "    // socket, so there is still some room for performance tuning.\n",
       "    var ws = {};\n",
       "\n",
       "    ws.close = function() {\n",
       "        comm.close()\n",
       "    };\n",
       "    ws.send = function(m) {\n",
       "        //console.log('sending', m);\n",
       "        comm.send(m);\n",
       "    };\n",
       "    // Register the callback with on_msg.\n",
       "    comm.on_msg(function(msg) {\n",
       "        //console.log('receiving', msg['content']['data'], msg);\n",
       "        // Pass the mpl event to the overridden (by mpl) onmessage function.\n",
       "        ws.onmessage(msg['content']['data'])\n",
       "    });\n",
       "    return ws;\n",
       "}\n",
       "\n",
       "mpl.mpl_figure_comm = function(comm, msg) {\n",
       "    // This is the function which gets called when the mpl process\n",
       "    // starts-up an IPython Comm through the \"matplotlib\" channel.\n",
       "\n",
       "    var id = msg.content.data.id;\n",
       "    // Get hold of the div created by the display call when the Comm\n",
       "    // socket was opened in Python.\n",
       "    var element = $(\"#\" + id);\n",
       "    var ws_proxy = comm_websocket_adapter(comm)\n",
       "\n",
       "    function ondownload(figure, format) {\n",
       "        window.open(figure.imageObj.src);\n",
       "    }\n",
       "\n",
       "    var fig = new mpl.figure(id, ws_proxy,\n",
       "                           ondownload,\n",
       "                           element.get(0));\n",
       "\n",
       "    // Call onopen now - mpl needs it, as it is assuming we've passed it a real\n",
       "    // web socket which is closed, not our websocket->open comm proxy.\n",
       "    ws_proxy.onopen();\n",
       "\n",
       "    fig.parent_element = element.get(0);\n",
       "    fig.cell_info = mpl.find_output_cell(\"<div id='\" + id + \"'></div>\");\n",
       "    if (!fig.cell_info) {\n",
       "        console.error(\"Failed to find cell for figure\", id, fig);\n",
       "        return;\n",
       "    }\n",
       "\n",
       "    var output_index = fig.cell_info[2]\n",
       "    var cell = fig.cell_info[0];\n",
       "\n",
       "};\n",
       "\n",
       "mpl.figure.prototype.handle_close = function(fig, msg) {\n",
       "    var width = fig.canvas.width/mpl.ratio\n",
       "    fig.root.unbind('remove')\n",
       "\n",
       "    // Update the output cell to use the data from the current canvas.\n",
       "    fig.push_to_output();\n",
       "    var dataURL = fig.canvas.toDataURL();\n",
       "    // Re-enable the keyboard manager in IPython - without this line, in FF,\n",
       "    // the notebook keyboard shortcuts fail.\n",
       "    IPython.keyboard_manager.enable()\n",
       "    $(fig.parent_element).html('<img src=\"' + dataURL + '\" width=\"' + width + '\">');\n",
       "    fig.close_ws(fig, msg);\n",
       "}\n",
       "\n",
       "mpl.figure.prototype.close_ws = function(fig, msg){\n",
       "    fig.send_message('closing', msg);\n",
       "    // fig.ws.close()\n",
       "}\n",
       "\n",
       "mpl.figure.prototype.push_to_output = function(remove_interactive) {\n",
       "    // Turn the data on the canvas into data in the output cell.\n",
       "    var width = this.canvas.width/mpl.ratio\n",
       "    var dataURL = this.canvas.toDataURL();\n",
       "    this.cell_info[1]['text/html'] = '<img src=\"' + dataURL + '\" width=\"' + width + '\">';\n",
       "}\n",
       "\n",
       "mpl.figure.prototype.updated_canvas_event = function() {\n",
       "    // Tell IPython that the notebook contents must change.\n",
       "    IPython.notebook.set_dirty(true);\n",
       "    this.send_message(\"ack\", {});\n",
       "    var fig = this;\n",
       "    // Wait a second, then push the new image to the DOM so\n",
       "    // that it is saved nicely (might be nice to debounce this).\n",
       "    setTimeout(function () { fig.push_to_output() }, 1000);\n",
       "}\n",
       "\n",
       "mpl.figure.prototype._init_toolbar = function() {\n",
       "    var fig = this;\n",
       "\n",
       "    var nav_element = $('<div/>');\n",
       "    nav_element.attr('style', 'width: 100%');\n",
       "    this.root.append(nav_element);\n",
       "\n",
       "    // Define a callback function for later on.\n",
       "    function toolbar_event(event) {\n",
       "        return fig.toolbar_button_onclick(event['data']);\n",
       "    }\n",
       "    function toolbar_mouse_event(event) {\n",
       "        return fig.toolbar_button_onmouseover(event['data']);\n",
       "    }\n",
       "\n",
       "    for(var toolbar_ind in mpl.toolbar_items){\n",
       "        var name = mpl.toolbar_items[toolbar_ind][0];\n",
       "        var tooltip = mpl.toolbar_items[toolbar_ind][1];\n",
       "        var image = mpl.toolbar_items[toolbar_ind][2];\n",
       "        var method_name = mpl.toolbar_items[toolbar_ind][3];\n",
       "\n",
       "        if (!name) { continue; };\n",
       "\n",
       "        var button = $('<button class=\"btn btn-default\" href=\"#\" title=\"' + name + '\"><i class=\"fa ' + image + ' fa-lg\"></i></button>');\n",
       "        button.click(method_name, toolbar_event);\n",
       "        button.mouseover(tooltip, toolbar_mouse_event);\n",
       "        nav_element.append(button);\n",
       "    }\n",
       "\n",
       "    // Add the status bar.\n",
       "    var status_bar = $('<span class=\"mpl-message\" style=\"text-align:right; float: right;\"/>');\n",
       "    nav_element.append(status_bar);\n",
       "    this.message = status_bar[0];\n",
       "\n",
       "    // Add the close button to the window.\n",
       "    var buttongrp = $('<div class=\"btn-group inline pull-right\"></div>');\n",
       "    var button = $('<button class=\"btn btn-mini btn-primary\" href=\"#\" title=\"Stop Interaction\"><i class=\"fa fa-power-off icon-remove icon-large\"></i></button>');\n",
       "    button.click(function (evt) { fig.handle_close(fig, {}); } );\n",
       "    button.mouseover('Stop Interaction', toolbar_mouse_event);\n",
       "    buttongrp.append(button);\n",
       "    var titlebar = this.root.find($('.ui-dialog-titlebar'));\n",
       "    titlebar.prepend(buttongrp);\n",
       "}\n",
       "\n",
       "mpl.figure.prototype._root_extra_style = function(el){\n",
       "    var fig = this\n",
       "    el.on(\"remove\", function(){\n",
       "\tfig.close_ws(fig, {});\n",
       "    });\n",
       "}\n",
       "\n",
       "mpl.figure.prototype._canvas_extra_style = function(el){\n",
       "    // this is important to make the div 'focusable\n",
       "    el.attr('tabindex', 0)\n",
       "    // reach out to IPython and tell the keyboard manager to turn it's self\n",
       "    // off when our div gets focus\n",
       "\n",
       "    // location in version 3\n",
       "    if (IPython.notebook.keyboard_manager) {\n",
       "        IPython.notebook.keyboard_manager.register_events(el);\n",
       "    }\n",
       "    else {\n",
       "        // location in version 2\n",
       "        IPython.keyboard_manager.register_events(el);\n",
       "    }\n",
       "\n",
       "}\n",
       "\n",
       "mpl.figure.prototype._key_event_extra = function(event, name) {\n",
       "    var manager = IPython.notebook.keyboard_manager;\n",
       "    if (!manager)\n",
       "        manager = IPython.keyboard_manager;\n",
       "\n",
       "    // Check for shift+enter\n",
       "    if (event.shiftKey && event.which == 13) {\n",
       "        this.canvas_div.blur();\n",
       "        // select the cell after this one\n",
       "        var index = IPython.notebook.find_cell_index(this.cell_info[0]);\n",
       "        IPython.notebook.select(index + 1);\n",
       "    }\n",
       "}\n",
       "\n",
       "mpl.figure.prototype.handle_save = function(fig, msg) {\n",
       "    fig.ondownload(fig, null);\n",
       "}\n",
       "\n",
       "\n",
       "mpl.find_output_cell = function(html_output) {\n",
       "    // Return the cell and output element which can be found *uniquely* in the notebook.\n",
       "    // Note - this is a bit hacky, but it is done because the \"notebook_saving.Notebook\"\n",
       "    // IPython event is triggered only after the cells have been serialised, which for\n",
       "    // our purposes (turning an active figure into a static one), is too late.\n",
       "    var cells = IPython.notebook.get_cells();\n",
       "    var ncells = cells.length;\n",
       "    for (var i=0; i<ncells; i++) {\n",
       "        var cell = cells[i];\n",
       "        if (cell.cell_type === 'code'){\n",
       "            for (var j=0; j<cell.output_area.outputs.length; j++) {\n",
       "                var data = cell.output_area.outputs[j];\n",
       "                if (data.data) {\n",
       "                    // IPython >= 3 moved mimebundle to data attribute of output\n",
       "                    data = data.data;\n",
       "                }\n",
       "                if (data['text/html'] == html_output) {\n",
       "                    return [cell, data, j];\n",
       "                }\n",
       "            }\n",
       "        }\n",
       "    }\n",
       "}\n",
       "\n",
       "// Register the function which deals with the matplotlib target/channel.\n",
       "// The kernel may be null if the page has been refreshed.\n",
       "if (IPython.notebook.kernel != null) {\n",
       "    IPython.notebook.kernel.comm_manager.register_target('matplotlib', mpl.mpl_figure_comm);\n",
       "}\n"
      ],
      "text/plain": [
       "<IPython.core.display.Javascript object>"
      ]
     },
     "metadata": {},
     "output_type": "display_data"
    },
    {
     "data": {
      "text/html": [
       "<img src=\"data:image/png;base64,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\" width=\"639.85\">"
      ],
      "text/plain": [
       "<IPython.core.display.HTML object>"
      ]
     },
     "metadata": {},
     "output_type": "display_data"
    },
    {
     "data": {
      "text/plain": [
       "[<matplotlib.lines.Line2D at 0x7f256de6a490>]"
      ]
     },
     "execution_count": 19,
     "metadata": {},
     "output_type": "execute_result"
    }
   ],
   "source": [
    "plot(*data,**style)"
   ]
  },
  {
   "cell_type": "markdown",
   "metadata": {},
   "source": [
    "## 7.3 Return values"
   ]
  },
  {
   "cell_type": "code",
   "execution_count": 20,
   "metadata": {},
   "outputs": [],
   "source": [
    "def complex_to_polar(z):\n",
    "    r = sqrt(z.real ** 2 + z.imag ** 2)\n",
    "    phi = arctan2(z.imag, z.real)\n",
    "    return (r,phi)  # here the return object is formed"
   ]
  },
  {
   "cell_type": "code",
   "execution_count": 21,
   "metadata": {},
   "outputs": [
    {
     "data": {
      "text/plain": [
       "(5.830951894845301, 1.0303768265243125)"
      ]
     },
     "execution_count": 21,
     "metadata": {},
     "output_type": "execute_result"
    }
   ],
   "source": [
    "z = 3 + 5j  # here we define a complex number\n",
    "a = complex_to_polar(z)\n",
    "r = a[0]\n",
    "phi = a[1]\n",
    "r, phi"
   ]
  },
  {
   "cell_type": "code",
   "execution_count": 22,
   "metadata": {},
   "outputs": [
    {
     "data": {
      "text/plain": [
       "(5.830951894845301, 1.0303768265243125)"
      ]
     },
     "execution_count": 22,
     "metadata": {},
     "output_type": "execute_result"
    }
   ],
   "source": [
    "r,phi = complex_to_polar(z)\n",
    "r, phi"
   ]
  },
  {
   "cell_type": "code",
   "execution_count": 23,
   "metadata": {},
   "outputs": [],
   "source": [
    "def append_to_list(L, x):\n",
    "    L.append(x)"
   ]
  },
  {
   "cell_type": "code",
   "execution_count": 24,
   "metadata": {},
   "outputs": [],
   "source": [
    "def function_with_dead_code(x):\n",
    "    return 2 * x\n",
    "    y = x ** 2 # these two lines ...\n",
    "    return y   # ... are never executed!"
   ]
  },
  {
   "cell_type": "markdown",
   "metadata": {},
   "source": [
    "## 7.4 Recursive functions"
   ]
  },
  {
   "cell_type": "code",
   "execution_count": 25,
   "metadata": {},
   "outputs": [],
   "source": [
    "def chebyshev(n, x):\n",
    "    if n == 0:\n",
    "        return 1.\n",
    "    elif n == 1:\n",
    "        return x\n",
    "    else:\n",
    "        return 2. * x * chebyshev(n - 1, x) \\\n",
    "                      - chebyshev(n - 2 ,x)"
   ]
  },
  {
   "cell_type": "code",
   "execution_count": 26,
   "metadata": {},
   "outputs": [
    {
     "data": {
      "text/plain": [
       "0.39616645119999994"
      ]
     },
     "execution_count": 26,
     "metadata": {},
     "output_type": "execute_result"
    }
   ],
   "source": [
    "chebyshev(5, 0.52) # returns 0.39616645119999994"
   ]
  },
  {
   "cell_type": "markdown",
   "metadata": {},
   "source": [
    "## 7.5 Function documentation"
   ]
  },
  {
   "cell_type": "code",
   "execution_count": 27,
   "metadata": {},
   "outputs": [],
   "source": [
    "def newton(f, x0):\n",
    "    \"\"\"\n",
    "    Newton's method for computing a zero of a function\n",
    "    on input:\n",
    "    f  (function) given function f(x)\n",
    "    x0 (float) initial guess \n",
    "    on return:\n",
    "    y  (float) the approximated zero of f\n",
    "    \"\"\"\n",
    "    ..."
   ]
  },
  {
   "cell_type": "code",
   "execution_count": 28,
   "metadata": {},
   "outputs": [
    {
     "name": "stdout",
     "output_type": "stream",
     "text": [
      "Help on function newton in module __main__:\n",
      "\n",
      "newton(f, x0)\n",
      "    Newton's method for computing a zero of a function\n",
      "    on input:\n",
      "    f  (function) given function f(x)\n",
      "    x0 (float) initial guess \n",
      "    on return:\n",
      "    y  (float) the approximated zero of f\n",
      "\n"
     ]
    }
   ],
   "source": [
    "help(newton)"
   ]
  },
  {
   "cell_type": "markdown",
   "metadata": {},
   "source": [
    "## 7.6 Functions are objects"
   ]
  },
  {
   "cell_type": "code",
   "execution_count": 29,
   "metadata": {},
   "outputs": [
    {
     "name": "stdout",
     "output_type": "stream",
     "text": [
      "None\n"
     ]
    }
   ],
   "source": [
    "def square(x):\n",
    "    \"\"\"\n",
    "    Return the square of x\n",
    "    \"\"\"\n",
    "    return x ** 2\n",
    "square(4) # 16\n",
    "sq = square # now sq is the same as square\n",
    "sq(4) # 16\n",
    "del square # square doesn't exist anymore\n",
    "print(newton(sq, .2)) # passing as argument"
   ]
  },
  {
   "cell_type": "markdown",
   "metadata": {},
   "source": [
    "### 7.6.1 Partial application"
   ]
  },
  {
   "cell_type": "code",
   "execution_count": 30,
   "metadata": {},
   "outputs": [
    {
     "data": {
      "text/plain": [
       "-1.0"
      ]
     },
     "execution_count": 30,
     "metadata": {},
     "output_type": "execute_result"
    }
   ],
   "source": [
    "import functools \n",
    "def sin_omega(t, freq):\n",
    "    return sin(2 * pi * freq * t)\n",
    "\n",
    "def make_sine(frequency):\n",
    "    return functools.partial(sin_omega, freq = frequency)\n",
    "\n",
    "fomega=make_sine(0.25)\n",
    "fomega(3) # returns -1.0"
   ]
  },
  {
   "cell_type": "markdown",
   "metadata": {},
   "source": [
    "### 7.6.2 Using closures"
   ]
  },
  {
   "cell_type": "code",
   "execution_count": 31,
   "metadata": {},
   "outputs": [],
   "source": [
    "def make_sine(freq):\n",
    "    \"Make a sine function with frequency freq\"\n",
    "    def mysine(t):\n",
    "        return sin_omega(t, freq)\n",
    "    return mysine"
   ]
  },
  {
   "cell_type": "markdown",
   "metadata": {},
   "source": [
    "## 7.7 Anonymous functions – the keyword lambda"
   ]
  },
  {
   "cell_type": "code",
   "execution_count": 32,
   "metadata": {},
   "outputs": [
    {
     "data": {
      "text/plain": [
       "(5.333333333333333, 5.921189464667501e-14)"
      ]
     },
     "execution_count": 32,
     "metadata": {},
     "output_type": "execute_result"
    }
   ],
   "source": [
    "import scipy.integrate as si\n",
    "si.quad(lambda x: x ** 2 + 5, 0, 1)"
   ]
  },
  {
   "cell_type": "code",
   "execution_count": 33,
   "metadata": {},
   "outputs": [
    {
     "data": {
      "text/plain": [
       "14"
      ]
     },
     "execution_count": 33,
     "metadata": {},
     "output_type": "execute_result"
    }
   ],
   "source": [
    "parabola = lambda x: x ** 2 + 5\n",
    "parabola(3) # gives 14"
   ]
  },
  {
   "cell_type": "markdown",
   "metadata": {},
   "source": [
    "### 7.7.1 The lambda construction is always replaceable"
   ]
  },
  {
   "cell_type": "code",
   "execution_count": 34,
   "metadata": {},
   "outputs": [],
   "source": [
    "parabola = lambda x: x**2+5 \n",
    "# the following code is equivalent\n",
    "def parabola(x):\n",
    "    return x ** 2 + 5"
   ]
  },
  {
   "cell_type": "code",
   "execution_count": 35,
   "metadata": {},
   "outputs": [
    {
     "name": "stdout",
     "output_type": "stream",
     "text": [
      "(0.0, 0.0)\n",
      "(0.004191640273463963, 1.1115764244561913e-14)\n",
      "(0.008036465645038323, 1.0934118293721024e-14)\n"
     ]
    }
   ],
   "source": [
    "import scipy.integrate as si\n",
    "for iteration in range(3):\n",
    "    print(si.quad(lambda x: sin_omega(x, iteration*pi), 0, pi/2.) )"
   ]
  },
  {
   "cell_type": "markdown",
   "metadata": {},
   "source": [
    "## 7.8 Functions as decorators\n"
   ]
  },
  {
   "cell_type": "code",
   "execution_count": 36,
   "metadata": {},
   "outputs": [],
   "source": [
    "def how_sparse(A):\n",
    "    return len(A.reshape(-1).nonzero()[0])"
   ]
  },
  {
   "cell_type": "code",
   "execution_count": 37,
   "metadata": {},
   "outputs": [],
   "source": [
    "def cast2array(f):\n",
    "    def new_function(obj):\n",
    "        fA = f(array(obj))\n",
    "        return fA\n",
    "    return new_function"
   ]
  },
  {
   "cell_type": "code",
   "execution_count": 38,
   "metadata": {},
   "outputs": [],
   "source": [
    "@cast2array\n",
    "def how_sparse(A):\n",
    "    return len(A.reshape(-1).nonzero()[0])"
   ]
  }
 ],
 "metadata": {
  "celltoolbar": "Tags",
  "kernelspec": {
   "display_name": "Python 3",
   "language": "python",
   "name": "python3"
  },
  "language_info": {
   "codemirror_mode": {
    "name": "ipython",
    "version": 3
   },
   "file_extension": ".py",
   "mimetype": "text/x-python",
   "name": "python",
   "nbconvert_exporter": "python",
   "pygments_lexer": "ipython3",
   "version": "3.7.6"
  }
 },
 "nbformat": 4,
 "nbformat_minor": 4
}
