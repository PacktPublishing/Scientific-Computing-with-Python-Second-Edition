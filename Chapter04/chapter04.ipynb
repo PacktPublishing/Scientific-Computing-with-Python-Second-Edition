{
 "cells": [
  {
   "cell_type": "markdown",
   "metadata": {},
   "source": [
    "# Scientific Computing with Python (Second Edition)\n",
    "\n",
    "# Chapter 03\n",
    "\n",
    "*We start by importing all from Numpy. As explained in Chapter 01 the examples are written assuming this import is initially done.*\n"
   ]
  },
  {
   "cell_type": "code",
   "execution_count": 1,
   "metadata": {},
   "outputs": [],
   "source": [
    "from numpy import *"
   ]
  },
  {
   "cell_type": "markdown",
   "metadata": {},
   "source": [
    "## 4.1 Overview of the array type\n"
   ]
  },
  {
   "cell_type": "code",
   "execution_count": 2,
   "metadata": {},
   "outputs": [
    {
     "data": {
      "text/plain": [
       "array([1., 2., 3.])"
      ]
     },
     "execution_count": 2,
     "metadata": {},
     "output_type": "execute_result"
    }
   ],
   "source": [
    "v = array([1.,2.,3.])\n",
    "v"
   ]
  },
  {
   "cell_type": "code",
   "execution_count": 3,
   "metadata": {},
   "outputs": [
    {
     "data": {
      "text/plain": [
       "array([2., 4., 6.])"
      ]
     },
     "execution_count": 3,
     "metadata": {},
     "output_type": "execute_result"
    }
   ],
   "source": [
    "# two vectors with three components\n",
    "v1 = array([1., 2., 3.])\n",
    "v2 = array([2, 0, 1.])\n",
    "\n",
    "# scalar multiplications/divisions\n",
    "2*v1 # array([2., 4., 6.])"
   ]
  },
  {
   "cell_type": "code",
   "execution_count": 4,
   "metadata": {},
   "outputs": [
    {
     "data": {
      "text/plain": [
       "array([0.5, 1. , 1.5])"
      ]
     },
     "execution_count": 4,
     "metadata": {},
     "output_type": "execute_result"
    }
   ],
   "source": [
    "v1/2 # array([0.5, 1., 1.5])"
   ]
  },
  {
   "cell_type": "code",
   "execution_count": 5,
   "metadata": {},
   "outputs": [
    {
     "data": {
      "text/plain": [
       "array([3., 6., 9.])"
      ]
     },
     "execution_count": 5,
     "metadata": {},
     "output_type": "execute_result"
    }
   ],
   "source": [
    "# linear combinations\n",
    "3*v1 # array([ 3., 6., 9.])"
   ]
  },
  {
   "cell_type": "code",
   "execution_count": 6,
   "metadata": {},
   "outputs": [
    {
     "data": {
      "text/plain": [
       "array([ 7.,  6., 11.])"
      ]
     },
     "execution_count": 6,
     "metadata": {},
     "output_type": "execute_result"
    }
   ],
   "source": [
    "3*v1 + 2*v2 # array([ 7., 6., 11.])"
   ]
  },
  {
   "cell_type": "code",
   "execution_count": 7,
   "metadata": {},
   "outputs": [
    {
     "data": {
      "text/plain": [
       "3.7416573867739413"
      ]
     },
     "execution_count": 7,
     "metadata": {},
     "output_type": "execute_result"
    }
   ],
   "source": [
    "# norm\n",
    "from numpy.linalg import norm\n",
    "norm(v1) # 3.7416573867739413"
   ]
  },
  {
   "cell_type": "code",
   "execution_count": 8,
   "metadata": {},
   "outputs": [
    {
     "data": {
      "text/plain": [
       "5.0"
      ]
     },
     "execution_count": 8,
     "metadata": {},
     "output_type": "execute_result"
    }
   ],
   "source": [
    "# scalar product\n",
    "dot(v1, v2) # 5.0"
   ]
  },
  {
   "cell_type": "code",
   "execution_count": 9,
   "metadata": {},
   "outputs": [
    {
     "data": {
      "text/plain": [
       "5.0"
      ]
     },
     "execution_count": 9,
     "metadata": {},
     "output_type": "execute_result"
    }
   ],
   "source": [
    "v1 @ v2 # 5.0 ; alternative formulation"
   ]
  },
  {
   "cell_type": "code",
   "execution_count": 10,
   "metadata": {},
   "outputs": [
    {
     "data": {
      "text/plain": [
       "array([2., 0., 3.])"
      ]
     },
     "execution_count": 10,
     "metadata": {},
     "output_type": "execute_result"
    }
   ],
   "source": [
    "# elementwise operations:\n",
    "v1 * v2 # array([2., 0., 3.])"
   ]
  },
  {
   "cell_type": "code",
   "execution_count": 11,
   "metadata": {},
   "outputs": [
    {
     "data": {
      "text/plain": [
       "array([2.        , 0.        , 0.33333333])"
      ]
     },
     "execution_count": 11,
     "metadata": {},
     "output_type": "execute_result"
    }
   ],
   "source": [
    "v2 / v1 # array([2.,0.,.333333])"
   ]
  },
  {
   "cell_type": "code",
   "execution_count": 12,
   "metadata": {},
   "outputs": [
    {
     "data": {
      "text/plain": [
       "array([-1.,  2.,  2.])"
      ]
     },
     "execution_count": 12,
     "metadata": {},
     "output_type": "execute_result"
    }
   ],
   "source": [
    "v1 - v2 # array([-1., 2., 2.])"
   ]
  },
  {
   "cell_type": "code",
   "execution_count": 13,
   "metadata": {},
   "outputs": [
    {
     "data": {
      "text/plain": [
       "array([3., 2., 4.])"
      ]
     },
     "execution_count": 13,
     "metadata": {},
     "output_type": "execute_result"
    }
   ],
   "source": [
    "v1 + v2 # array([ 3., 2., 4.])"
   ]
  },
  {
   "cell_type": "code",
   "execution_count": 14,
   "metadata": {},
   "outputs": [
    {
     "data": {
      "text/plain": [
       "array([ 0.54030231, -0.41614684, -0.9899925 ])"
      ]
     },
     "execution_count": 14,
     "metadata": {},
     "output_type": "execute_result"
    }
   ],
   "source": [
    "cos(v1) # cosine, elementwise: array([ 0.5403, -0.4161, -0.9899])"
   ]
  },
  {
   "cell_type": "code",
   "execution_count": 15,
   "metadata": {},
   "outputs": [
    {
     "data": {
      "text/plain": [
       "array([[1., 2.],\n",
       "       [0., 1.]])"
      ]
     },
     "execution_count": 15,
     "metadata": {},
     "output_type": "execute_result"
    }
   ],
   "source": [
    "M = array([[1.,2],[0.,1]])\n",
    "M"
   ]
  },
  {
   "cell_type": "code",
   "execution_count": 16,
   "metadata": {},
   "outputs": [
    {
     "data": {
      "text/plain": [
       "array([[1., 2., 1.]])"
      ]
     },
     "execution_count": 16,
     "metadata": {},
     "output_type": "execute_result"
    }
   ],
   "source": [
    "v = array([1., 2., 1.])\n",
    "R = v.reshape((1,3))\n",
    "R"
   ]
  },
  {
   "cell_type": "code",
   "execution_count": 17,
   "metadata": {},
   "outputs": [
    {
     "data": {
      "text/plain": [
       "(1, 3)"
      ]
     },
     "execution_count": 17,
     "metadata": {},
     "output_type": "execute_result"
    }
   ],
   "source": [
    "shape(R)"
   ]
  },
  {
   "cell_type": "code",
   "execution_count": 18,
   "metadata": {},
   "outputs": [
    {
     "data": {
      "text/plain": [
       "(3, 1)"
      ]
     },
     "execution_count": 18,
     "metadata": {},
     "output_type": "execute_result"
    }
   ],
   "source": [
    "C = v.reshape((3, 1))\n",
    "shape(C) # (3,1): this is a column matrix"
   ]
  },
  {
   "cell_type": "markdown",
   "metadata": {},
   "source": [
    "### 4.1.2 Indexing and slices\n"
   ]
  },
  {
   "cell_type": "code",
   "execution_count": 19,
   "metadata": {},
   "outputs": [
    {
     "data": {
      "text/plain": [
       "1.0"
      ]
     },
     "execution_count": 19,
     "metadata": {},
     "output_type": "execute_result"
    }
   ],
   "source": [
    "v = array([1., 2., 3])\n",
    "M = array([[1., 2],[3., 4]])\n",
    "\n",
    "v[0] # works as for lists"
   ]
  },
  {
   "cell_type": "code",
   "execution_count": 20,
   "metadata": {},
   "outputs": [
    {
     "data": {
      "text/plain": [
       "array([2., 3.])"
      ]
     },
     "execution_count": 20,
     "metadata": {},
     "output_type": "execute_result"
    }
   ],
   "source": [
    "v[1:] # array([2., 3.])"
   ]
  },
  {
   "cell_type": "code",
   "execution_count": 21,
   "metadata": {},
   "outputs": [
    {
     "data": {
      "text/plain": [
       "1.0"
      ]
     },
     "execution_count": 21,
     "metadata": {},
     "output_type": "execute_result"
    }
   ],
   "source": [
    "M[0, 0] # 1."
   ]
  },
  {
   "cell_type": "code",
   "execution_count": 22,
   "metadata": {},
   "outputs": [
    {
     "data": {
      "text/plain": [
       "array([[3., 4.]])"
      ]
     },
     "execution_count": 22,
     "metadata": {},
     "output_type": "execute_result"
    }
   ],
   "source": [
    "M[1:] # returns the matrix array([[3., 4]])"
   ]
  },
  {
   "cell_type": "code",
   "execution_count": 23,
   "metadata": {},
   "outputs": [
    {
     "data": {
      "text/plain": [
       "array([3., 4.])"
      ]
     },
     "execution_count": 23,
     "metadata": {},
     "output_type": "execute_result"
    }
   ],
   "source": [
    "M[1] # returns the vector array([3., 4.])"
   ]
  },
  {
   "cell_type": "code",
   "execution_count": 24,
   "metadata": {},
   "outputs": [
    {
     "data": {
      "text/plain": [
       "1.0"
      ]
     },
     "execution_count": 24,
     "metadata": {},
     "output_type": "execute_result"
    }
   ],
   "source": [
    "# access\n",
    "v[0] # 1."
   ]
  },
  {
   "cell_type": "code",
   "execution_count": 25,
   "metadata": {},
   "outputs": [
    {
     "data": {
      "text/plain": [
       "array([10.,  2.])"
      ]
     },
     "execution_count": 25,
     "metadata": {},
     "output_type": "execute_result"
    }
   ],
   "source": [
    "v[0] = 10\n",
    "# slices\n",
    "v[:2] # array([10., 2.])"
   ]
  },
  {
   "cell_type": "code",
   "execution_count": 26,
   "metadata": {},
   "outputs": [],
   "source": [
    "v[:2] = [0, 1] # now v == array([0., 1., 3.])"
   ]
  },
  {
   "cell_type": "code",
   "execution_count": 27,
   "metadata": {
    "tags": [
     "raises-exception"
    ]
   },
   "outputs": [
    {
     "ename": "ValueError",
     "evalue": "cannot copy sequence with size 3 to array axis with dimension 2",
     "output_type": "error",
     "traceback": [
      "\u001b[0;31m---------------------------------------------------------------------------\u001b[0m",
      "\u001b[0;31mValueError\u001b[0m                                Traceback (most recent call last)",
      "\u001b[0;32m<ipython-input-27-49850a080d0b>\u001b[0m in \u001b[0;36m<module>\u001b[0;34m\u001b[0m\n\u001b[0;32m----> 1\u001b[0;31m \u001b[0mv\u001b[0m\u001b[0;34m[\u001b[0m\u001b[0;34m:\u001b[0m\u001b[0;36m2\u001b[0m\u001b[0;34m]\u001b[0m \u001b[0;34m=\u001b[0m \u001b[0;34m[\u001b[0m\u001b[0;36m1\u001b[0m\u001b[0;34m,\u001b[0m \u001b[0;36m2\u001b[0m\u001b[0;34m,\u001b[0m \u001b[0;36m3\u001b[0m\u001b[0;34m]\u001b[0m \u001b[0;31m# error!\u001b[0m\u001b[0;34m\u001b[0m\u001b[0;34m\u001b[0m\u001b[0m\n\u001b[0m",
      "\u001b[0;31mValueError\u001b[0m: cannot copy sequence with size 3 to array axis with dimension 2"
     ]
    }
   ],
   "source": [
    "v[:2] = [1, 2, 3] # error!"
   ]
  },
  {
   "cell_type": "markdown",
   "metadata": {},
   "source": [
    "### 4.1.3 Linear algebra operations"
   ]
  },
  {
   "cell_type": "code",
   "execution_count": 28,
   "metadata": {},
   "outputs": [
    {
     "data": {
      "text/plain": [
       "array([ 5., 11.])"
      ]
     },
     "execution_count": 28,
     "metadata": {},
     "output_type": "execute_result"
    }
   ],
   "source": [
    "v = array([1., 2.])\n",
    "M = array([[1., 2],[3., 4]])\n",
    "\n",
    "dot(M, v) # matrix vector multiplication; returns a vector\n",
    "M @ v # alternative formulation"
   ]
  },
  {
   "cell_type": "code",
   "execution_count": 29,
   "metadata": {},
   "outputs": [
    {
     "data": {
      "text/plain": [
       "14.0"
      ]
     },
     "execution_count": 29,
     "metadata": {},
     "output_type": "execute_result"
    }
   ],
   "source": [
    "w=array([4., 5.])\n",
    "dot(v, w) \n",
    "# scalar product; the result is a scalar\n",
    "v @ w # alternative formulation"
   ]
  },
  {
   "cell_type": "code",
   "execution_count": 30,
   "metadata": {},
   "outputs": [
    {
     "data": {
      "text/plain": [
       "True"
      ]
     },
     "execution_count": 30,
     "metadata": {},
     "output_type": "execute_result"
    }
   ],
   "source": [
    "from numpy.linalg import solve\n",
    "A = array([[1., 2.], [3., 4.]])\n",
    "b = array([1., 4.])\n",
    "x = solve(A, b)\n",
    "allclose(dot(A, x), b) # True\n",
    "allclose(A @ x, b) # alternative formulation\n"
   ]
  },
  {
   "cell_type": "markdown",
   "metadata": {},
   "source": [
    "## 4.2 Mathematical preliminaries\n",
    "### 4.2.1 Arrays as functions\n",
    "No code.\n",
    "### 4.2.2 Operations are elementwise\n",
    "No code.\n",
    "### 4.2.3 Shape and number of dimensions\n",
    "No code.\n",
    "### 4.2.4 The dot operations"
   ]
  },
  {
   "cell_type": "code",
   "execution_count": 31,
   "metadata": {},
   "outputs": [
    {
     "data": {
      "text/plain": [
       "array([0.5      , 0.8660254])"
      ]
     },
     "execution_count": 31,
     "metadata": {},
     "output_type": "execute_result"
    }
   ],
   "source": [
    "angle = pi/3\n",
    "M = array([[cos(angle), -sin(angle)], \n",
    "           [sin(angle), cos(angle)]])\n",
    "v = array([1., 0.])\n",
    "y = dot(M, v)\n",
    "y"
   ]
  },
  {
   "cell_type": "markdown",
   "metadata": {},
   "source": [
    "## 4.3 The array type\n",
    "### 4.3.1 Array properties\n"
   ]
  },
  {
   "cell_type": "code",
   "execution_count": 32,
   "metadata": {},
   "outputs": [
    {
     "data": {
      "text/plain": [
       "(2, 3)"
      ]
     },
     "execution_count": 32,
     "metadata": {},
     "output_type": "execute_result"
    }
   ],
   "source": [
    "A = array([[1, 2, 3], [3, 4, 6]])\n",
    "A.shape   # (2, 3)"
   ]
  },
  {
   "cell_type": "code",
   "execution_count": 33,
   "metadata": {},
   "outputs": [
    {
     "data": {
      "text/plain": [
       "dtype('int64')"
      ]
     },
     "execution_count": 33,
     "metadata": {},
     "output_type": "execute_result"
    }
   ],
   "source": [
    "A.dtype"
   ]
  },
  {
   "cell_type": "code",
   "execution_count": 34,
   "metadata": {},
   "outputs": [
    {
     "data": {
      "text/plain": [
       "(24, 8)"
      ]
     },
     "execution_count": 34,
     "metadata": {},
     "output_type": "execute_result"
    }
   ],
   "source": [
    "   # dtype('int64')\n",
    "A.strides # (24, 8)"
   ]
  },
  {
   "cell_type": "markdown",
   "metadata": {},
   "source": [
    "### 4.3.2 Creating arrays from lists"
   ]
  },
  {
   "cell_type": "code",
   "execution_count": 35,
   "metadata": {},
   "outputs": [
    {
     "data": {
      "text/plain": [
       "array([1., 2., 1.])"
      ]
     },
     "execution_count": 35,
     "metadata": {},
     "output_type": "execute_result"
    }
   ],
   "source": [
    "V = array([1., 2., 1.], dtype=float)\n",
    "V"
   ]
  },
  {
   "cell_type": "code",
   "execution_count": 36,
   "metadata": {},
   "outputs": [
    {
     "data": {
      "text/plain": [
       "array([1.+0.j, 2.+0.j, 1.+0.j])"
      ]
     },
     "execution_count": 36,
     "metadata": {},
     "output_type": "execute_result"
    }
   ],
   "source": [
    "V = array([1., 2., 1.], dtype=complex)\n",
    "V"
   ]
  },
  {
   "cell_type": "code",
   "execution_count": 37,
   "metadata": {},
   "outputs": [
    {
     "data": {
      "text/plain": [
       "dtype('int64')"
      ]
     },
     "execution_count": 37,
     "metadata": {},
     "output_type": "execute_result"
    }
   ],
   "source": [
    "V = array([1, 2]) # [1, 2] is a list of integers\n",
    "V.dtype # int64"
   ]
  },
  {
   "cell_type": "code",
   "execution_count": 38,
   "metadata": {},
   "outputs": [
    {
     "data": {
      "text/plain": [
       "dtype('float64')"
      ]
     },
     "execution_count": 38,
     "metadata": {},
     "output_type": "execute_result"
    }
   ],
   "source": [
    "V = array([1., 2]) # [1., 2] mix float/integer\n",
    "V.dtype # float64"
   ]
  },
  {
   "cell_type": "code",
   "execution_count": 39,
   "metadata": {},
   "outputs": [
    {
     "data": {
      "text/plain": [
       "dtype('complex128')"
      ]
     },
     "execution_count": 39,
     "metadata": {},
     "output_type": "execute_result"
    }
   ],
   "source": [
    "V = array([1. + 0j, 2.]) # mix float/complex\n",
    "V.dtype # complex128"
   ]
  },
  {
   "cell_type": "code",
   "execution_count": 40,
   "metadata": {},
   "outputs": [
    {
     "data": {
      "text/plain": [
       "array([[1., 0.],\n",
       "       [0., 1.]])"
      ]
     },
     "execution_count": 40,
     "metadata": {},
     "output_type": "execute_result"
    }
   ],
   "source": [
    "# the identity matrix in 2D\n",
    "Id = array([[1., 0.], [0., 1.]])\n",
    "# Python allows this:\n",
    "Id = array([[1., 0.],\n",
    "            [0., 1.]])\n",
    "# which is more readable\n",
    "Id"
   ]
  },
  {
   "cell_type": "markdown",
   "metadata": {},
   "source": [
    "## 4.4 Accessing array entries\n"
   ]
  },
  {
   "cell_type": "code",
   "execution_count": 41,
   "metadata": {},
   "outputs": [
    {
     "data": {
      "text/plain": [
       "1.0"
      ]
     },
     "execution_count": 41,
     "metadata": {},
     "output_type": "execute_result"
    }
   ],
   "source": [
    "M = array([[1., 2.],[3., 4.]])\n",
    "M[0, 0] # first row, first column: 1.0"
   ]
  },
  {
   "cell_type": "code",
   "execution_count": 42,
   "metadata": {},
   "outputs": [
    {
     "data": {
      "text/plain": [
       "3.0"
      ]
     },
     "execution_count": 42,
     "metadata": {},
     "output_type": "execute_result"
    }
   ],
   "source": [
    "M[-1, 0] # last row, first column: 3.0"
   ]
  },
  {
   "cell_type": "markdown",
   "metadata": {},
   "source": [
    "### 4.4.1 Basic array slicing"
   ]
  },
  {
   "cell_type": "code",
   "execution_count": 43,
   "metadata": {},
   "outputs": [
    {
     "data": {
      "text/plain": [
       "array([0., 2., 3.])"
      ]
     },
     "execution_count": 43,
     "metadata": {},
     "output_type": "execute_result"
    }
   ],
   "source": [
    "v = array([1., 2., 3.])\n",
    "v1 = v[:2] # v1 is array([1., 2.])\n",
    "v1[0] = 0. # if v1 is changed ...\n",
    "v # ... v is changed too: array([0., 2., 3.])"
   ]
  },
  {
   "cell_type": "markdown",
   "metadata": {},
   "source": [
    "### 4.4.2 Altering an array using slices"
   ]
  },
  {
   "cell_type": "code",
   "execution_count": 44,
   "metadata": {},
   "outputs": [
    {
     "data": {
      "text/plain": [
       "array([[0., 0., 0.],\n",
       "       [0., 0., 2.],\n",
       "       [0., 0., 0.],\n",
       "       [0., 0., 0.],\n",
       "       [0., 0., 0.]])"
      ]
     },
     "execution_count": 44,
     "metadata": {},
     "output_type": "execute_result"
    }
   ],
   "source": [
    "M=zeros((5,3))\n",
    "M[1, 2] = 2.0 # scalar\n",
    "M"
   ]
  },
  {
   "cell_type": "code",
   "execution_count": 45,
   "metadata": {},
   "outputs": [
    {
     "data": {
      "text/plain": [
       "array([[0., 0., 0.],\n",
       "       [0., 0., 2.],\n",
       "       [1., 2., 3.],\n",
       "       [0., 0., 0.],\n",
       "       [0., 0., 0.]])"
      ]
     },
     "execution_count": 45,
     "metadata": {},
     "output_type": "execute_result"
    }
   ],
   "source": [
    "M[2, :] = [1., 2., 3.] # vector\n",
    "M"
   ]
  },
  {
   "cell_type": "code",
   "execution_count": 46,
   "metadata": {},
   "outputs": [
    {
     "data": {
      "text/plain": [
       "array([[ 0.,  0.,  0.],\n",
       "       [ 1.,  2.,  3.],\n",
       "       [-1., -2., -3.],\n",
       "       [ 0.,  0.,  0.],\n",
       "       [ 0.,  0.,  0.]])"
      ]
     },
     "execution_count": 46,
     "metadata": {},
     "output_type": "execute_result"
    }
   ],
   "source": [
    "M[1:3, :] = array([[1., 2., 3.],[-1.,-2., -3.]])\n",
    "M"
   ]
  },
  {
   "cell_type": "code",
   "execution_count": 47,
   "metadata": {},
   "outputs": [
    {
     "data": {
      "text/plain": [
       "array([[ 0.,  0.,  0.],\n",
       "       [ 1.,  1.,  3.],\n",
       "       [-1.,  0., -3.],\n",
       "       [ 0., -1.,  0.],\n",
       "       [ 0.,  0.,  0.]])"
      ]
     },
     "execution_count": 47,
     "metadata": {},
     "output_type": "execute_result"
    }
   ],
   "source": [
    "M[1:4, 1:2] = array([[1.],[0.],[-1.0]]) \n",
    "M\n"
   ]
  },
  {
   "cell_type": "code",
   "execution_count": 48,
   "metadata": {
    "tags": [
     "raises-exception"
    ]
   },
   "outputs": [
    {
     "ename": "ValueError",
     "evalue": "could not broadcast input array from shape (3) into shape (3,1)",
     "output_type": "error",
     "traceback": [
      "\u001b[0;31m---------------------------------------------------------------------------\u001b[0m",
      "\u001b[0;31mValueError\u001b[0m                                Traceback (most recent call last)",
      "\u001b[0;32m<ipython-input-48-fc7d049a9cf1>\u001b[0m in \u001b[0;36m<module>\u001b[0;34m\u001b[0m\n\u001b[0;32m----> 1\u001b[0;31m \u001b[0mM\u001b[0m\u001b[0;34m[\u001b[0m\u001b[0;36m1\u001b[0m\u001b[0;34m:\u001b[0m\u001b[0;36m4\u001b[0m\u001b[0;34m,\u001b[0m \u001b[0;36m1\u001b[0m\u001b[0;34m:\u001b[0m\u001b[0;36m2\u001b[0m\u001b[0;34m]\u001b[0m \u001b[0;34m=\u001b[0m \u001b[0marray\u001b[0m\u001b[0;34m(\u001b[0m\u001b[0;34m[\u001b[0m\u001b[0;36m1.\u001b[0m\u001b[0;34m,\u001b[0m \u001b[0;36m0.\u001b[0m\u001b[0;34m,\u001b[0m \u001b[0;34m-\u001b[0m\u001b[0;36m1.0\u001b[0m\u001b[0;34m]\u001b[0m\u001b[0;34m)\u001b[0m \u001b[0;31m#  error\u001b[0m\u001b[0;34m\u001b[0m\u001b[0;34m\u001b[0m\u001b[0m\n\u001b[0m\u001b[1;32m      2\u001b[0m \u001b[0mM\u001b[0m\u001b[0;34m\u001b[0m\u001b[0;34m\u001b[0m\u001b[0m\n",
      "\u001b[0;31mValueError\u001b[0m: could not broadcast input array from shape (3) into shape (3,1)"
     ]
    }
   ],
   "source": [
    "M[1:4, 1:2] = array([1., 0., -1.0]) #  error\n",
    "M"
   ]
  },
  {
   "cell_type": "markdown",
   "metadata": {},
   "source": [
    "## 4.5 Functions to construct arrays"
   ]
  },
  {
   "cell_type": "code",
   "execution_count": 49,
   "metadata": {},
   "outputs": [
    {
     "data": {
      "text/plain": [
       "array([[1., 0., 0.],\n",
       "       [0., 1., 0.],\n",
       "       [0., 0., 1.]])"
      ]
     },
     "execution_count": 49,
     "metadata": {},
     "output_type": "execute_result"
    }
   ],
   "source": [
    "I = identity(3)\n",
    "I"
   ]
  },
  {
   "cell_type": "code",
   "execution_count": 50,
   "metadata": {},
   "outputs": [
    {
     "data": {
      "text/plain": [
       "array([[1., 0., 0.],\n",
       "       [0., 1., 0.],\n",
       "       [0., 0., 1.]])"
      ]
     },
     "execution_count": 50,
     "metadata": {},
     "output_type": "execute_result"
    }
   ],
   "source": [
    "I = array([[ 1., 0., 0.],\n",
    "           [ 0., 1., 0.],\n",
    "           [ 0., 0., 1.]])\n",
    "I"
   ]
  },
  {
   "cell_type": "markdown",
   "metadata": {},
   "source": [
    "## 4.6 Accessing and changing the shape\n",
    "### 4.6.1 The function `shape` \n"
   ]
  },
  {
   "cell_type": "code",
   "execution_count": 51,
   "metadata": {},
   "outputs": [
    {
     "data": {
      "text/plain": [
       "(3, 3)"
      ]
     },
     "execution_count": 51,
     "metadata": {},
     "output_type": "execute_result"
    }
   ],
   "source": [
    "M = identity(3)\n",
    "shape(M) # (3, 3)"
   ]
  },
  {
   "cell_type": "code",
   "execution_count": 52,
   "metadata": {},
   "outputs": [
    {
     "data": {
      "text/plain": [
       "(3, 3)"
      ]
     },
     "execution_count": 52,
     "metadata": {},
     "output_type": "execute_result"
    }
   ],
   "source": [
    "M.shape  # (3, 3)"
   ]
  },
  {
   "cell_type": "code",
   "execution_count": 53,
   "metadata": {},
   "outputs": [
    {
     "data": {
      "text/plain": [
       "(1, 2)"
      ]
     },
     "execution_count": 53,
     "metadata": {},
     "output_type": "execute_result"
    }
   ],
   "source": [
    "shape(1.) # ()\n",
    "shape([1,2]) # (2,)\n",
    "shape([[1,2]]) # (1,2)"
   ]
  },
  {
   "cell_type": "code",
   "execution_count": 54,
   "metadata": {},
   "outputs": [
    {
     "data": {
      "text/plain": [
       "(4,)"
      ]
     },
     "execution_count": 54,
     "metadata": {},
     "output_type": "execute_result"
    }
   ],
   "source": [
    "v = array([1., 2., 1., 4.])\n",
    "shape(v) # (4,) <- singleton (1-tuple)"
   ]
  },
  {
   "cell_type": "markdown",
   "metadata": {},
   "source": [
    "### 4.6.2 Number of dimensions\n"
   ]
  },
  {
   "cell_type": "code",
   "execution_count": 55,
   "metadata": {},
   "outputs": [
    {
     "data": {
      "text/plain": [
       "2"
      ]
     },
     "execution_count": 55,
     "metadata": {},
     "output_type": "execute_result"
    }
   ],
   "source": [
    "ndim(A) # 2\n",
    "A.ndim # 2"
   ]
  },
  {
   "cell_type": "code",
   "execution_count": 56,
   "metadata": {},
   "outputs": [
    {
     "data": {
      "text/plain": [
       "3"
      ]
     },
     "execution_count": 56,
     "metadata": {},
     "output_type": "execute_result"
    }
   ],
   "source": [
    "T = zeros((2,2,3)) # tensor of shape (2,2,3); three dimensions\n",
    "ndim(T) # 3\n",
    "len(shape(T)) # 3"
   ]
  },
  {
   "cell_type": "markdown",
   "metadata": {},
   "source": [
    "### 4.6.3 Reshape"
   ]
  },
  {
   "cell_type": "code",
   "execution_count": 57,
   "metadata": {},
   "outputs": [
    {
     "data": {
      "text/plain": [
       "(2, 3)"
      ]
     },
     "execution_count": 57,
     "metadata": {},
     "output_type": "execute_result"
    }
   ],
   "source": [
    "v = array([0,1,2,3,4,5])\n",
    "M = v.reshape(2,3)\n",
    "shape(M) # returns (2,3)"
   ]
  },
  {
   "cell_type": "code",
   "execution_count": 58,
   "metadata": {},
   "outputs": [
    {
     "data": {
      "text/plain": [
       "array([10,  1,  2,  3,  4,  5])"
      ]
     },
     "execution_count": 58,
     "metadata": {},
     "output_type": "execute_result"
    }
   ],
   "source": [
    "M[0,0] = 10 # now v[0] is 10\n",
    "v"
   ]
  },
  {
   "cell_type": "code",
   "execution_count": 59,
   "metadata": {},
   "outputs": [
    {
     "data": {
      "text/plain": [
       "(2, 4)"
      ]
     },
     "execution_count": 59,
     "metadata": {},
     "output_type": "execute_result"
    }
   ],
   "source": [
    "v = array([1, 2, 3, 4, 5, 6, 7, 8])\n",
    "M = v.reshape(2, -1)\n",
    "shape(M) # returns (2, 4)"
   ]
  },
  {
   "cell_type": "code",
   "execution_count": 60,
   "metadata": {},
   "outputs": [
    {
     "data": {
      "text/plain": [
       "(4, 2)"
      ]
     },
     "execution_count": 60,
     "metadata": {},
     "output_type": "execute_result"
    }
   ],
   "source": [
    "M = v.reshape(-1, 2)\n",
    "shape(M) # returns (4,2 )"
   ]
  },
  {
   "cell_type": "code",
   "execution_count": 61,
   "metadata": {
    "tags": [
     "raises-exception"
    ]
   },
   "outputs": [
    {
     "ename": "ValueError",
     "evalue": "cannot reshape array of size 8 into shape (3,newaxis)",
     "output_type": "error",
     "traceback": [
      "\u001b[0;31m---------------------------------------------------------------------------\u001b[0m",
      "\u001b[0;31mValueError\u001b[0m                                Traceback (most recent call last)",
      "\u001b[0;32m<ipython-input-61-b9ef1789a10b>\u001b[0m in \u001b[0;36m<module>\u001b[0;34m\u001b[0m\n\u001b[0;32m----> 1\u001b[0;31m \u001b[0mM\u001b[0m \u001b[0;34m=\u001b[0m \u001b[0mv\u001b[0m\u001b[0;34m.\u001b[0m\u001b[0mreshape\u001b[0m\u001b[0;34m(\u001b[0m\u001b[0;36m3\u001b[0m\u001b[0;34m,\u001b[0m\u001b[0;34m-\u001b[0m \u001b[0;36m1\u001b[0m\u001b[0;34m)\u001b[0m \u001b[0;31m# returns error\u001b[0m\u001b[0;34m\u001b[0m\u001b[0;34m\u001b[0m\u001b[0m\n\u001b[0m",
      "\u001b[0;31mValueError\u001b[0m: cannot reshape array of size 8 into shape (3,newaxis)"
     ]
    }
   ],
   "source": [
    "M = v.reshape(3,- 1) # returns error"
   ]
  },
  {
   "cell_type": "code",
   "execution_count": 62,
   "metadata": {},
   "outputs": [
    {
     "data": {
      "text/plain": [
       "(4, 3)"
      ]
     },
     "execution_count": 62,
     "metadata": {},
     "output_type": "execute_result"
    }
   ],
   "source": [
    "A=ones((3,4))\n",
    "B = A.T  # A transpose\n",
    "shape(B) # (4,3)"
   ]
  },
  {
   "cell_type": "code",
   "execution_count": 63,
   "metadata": {},
   "outputs": [
    {
     "data": {
      "text/plain": [
       "5.0"
      ]
     },
     "execution_count": 63,
     "metadata": {},
     "output_type": "execute_result"
    }
   ],
   "source": [
    "A= array([[ 1., 2.],[ 3., 4.]]) \n",
    "B=A.T \n",
    "A[1,1]=5. \n",
    "B[1,1] # 5.0"
   ]
  },
  {
   "cell_type": "code",
   "execution_count": 64,
   "metadata": {},
   "outputs": [
    {
     "data": {
      "text/plain": [
       "array([1., 2., 3.])"
      ]
     },
     "execution_count": 64,
     "metadata": {},
     "output_type": "execute_result"
    }
   ],
   "source": [
    "v = array([1., 2., 3.])\n",
    "v.T # exactly the same vector!"
   ]
  },
  {
   "cell_type": "code",
   "execution_count": 65,
   "metadata": {},
   "outputs": [
    {
     "data": {
      "text/plain": [
       "array([[1., 2., 3.]])"
      ]
     },
     "execution_count": 65,
     "metadata": {},
     "output_type": "execute_result"
    }
   ],
   "source": [
    "v.reshape(-1, 1) # column matrix containing v\n",
    "v.reshape(1, -1) # row matrix containing v"
   ]
  },
  {
   "cell_type": "markdown",
   "metadata": {},
   "source": [
    "## 4.7 Stacking\n",
    "### 4.7.1 Stacking vectors"
   ]
  },
  {
   "cell_type": "code",
   "execution_count": 66,
   "metadata": {},
   "outputs": [
    {
     "data": {
      "text/plain": [
       "array([0, 1, 2, 3, 4, 5, 6, 7])"
      ]
     },
     "execution_count": 66,
     "metadata": {},
     "output_type": "execute_result"
    }
   ],
   "source": [
    "# v is supposed to have an even length.\n",
    "def symp(v):\n",
    "    n = len(v) // 2 # use the integer division //\n",
    "    return hstack([v[-n:], -v[:n]])\n",
    "\n",
    "v=arange(8)\n",
    "v"
   ]
  },
  {
   "cell_type": "code",
   "execution_count": 67,
   "metadata": {},
   "outputs": [
    {
     "data": {
      "text/plain": [
       "array([ 4,  5,  6,  7,  0, -1, -2, -3])"
      ]
     },
     "execution_count": 67,
     "metadata": {},
     "output_type": "execute_result"
    }
   ],
   "source": [
    "symp(v)"
   ]
  },
  {
   "cell_type": "markdown",
   "metadata": {},
   "source": [
    "## 4.8 Functions acting on arrays\n",
    "### 4.8.1 Universal functions\n"
   ]
  },
  {
   "cell_type": "code",
   "execution_count": 68,
   "metadata": {},
   "outputs": [
    {
     "data": {
      "text/plain": [
       "-1.0"
      ]
     },
     "execution_count": 68,
     "metadata": {},
     "output_type": "execute_result"
    }
   ],
   "source": [
    "cos(pi) # -1"
   ]
  },
  {
   "cell_type": "code",
   "execution_count": 69,
   "metadata": {},
   "outputs": [
    {
     "data": {
      "text/plain": [
       "array([[ 1.000000e+00,  6.123234e-17, -1.000000e+00]])"
      ]
     },
     "execution_count": 69,
     "metadata": {},
     "output_type": "execute_result"
    }
   ],
   "source": [
    "cos(array([[0, pi/2, pi]])) # array([[1, 0, -1]])"
   ]
  },
  {
   "cell_type": "code",
   "execution_count": 70,
   "metadata": {},
   "outputs": [
    {
     "data": {
      "text/plain": [
       "array([4, 8])"
      ]
     },
     "execution_count": 70,
     "metadata": {},
     "output_type": "execute_result"
    }
   ],
   "source": [
    "2 * array([2, 4]) # array([4, 8])"
   ]
  },
  {
   "cell_type": "code",
   "execution_count": 71,
   "metadata": {},
   "outputs": [
    {
     "data": {
      "text/plain": [
       "array([ 1, 16])"
      ]
     },
     "execution_count": 71,
     "metadata": {},
     "output_type": "execute_result"
    }
   ],
   "source": [
    "array([1, 2]) * array([1, 8]) # array([1, 16])"
   ]
  },
  {
   "cell_type": "code",
   "execution_count": 72,
   "metadata": {},
   "outputs": [
    {
     "data": {
      "text/plain": [
       "array([1, 4])"
      ]
     },
     "execution_count": 72,
     "metadata": {},
     "output_type": "execute_result"
    }
   ],
   "source": [
    "array([1, 2])**2 # array([1, 4])"
   ]
  },
  {
   "cell_type": "code",
   "execution_count": 73,
   "metadata": {},
   "outputs": [
    {
     "data": {
      "text/plain": [
       "array([2, 4])"
      ]
     },
     "execution_count": 73,
     "metadata": {},
     "output_type": "execute_result"
    }
   ],
   "source": [
    "2**array([1, 2]) # array([2, 4])"
   ]
  },
  {
   "cell_type": "code",
   "execution_count": 74,
   "metadata": {},
   "outputs": [
    {
     "data": {
      "text/plain": [
       "array([1, 4])"
      ]
     },
     "execution_count": 74,
     "metadata": {},
     "output_type": "execute_result"
    }
   ],
   "source": [
    "array([1, 2])**array([1, 2]) # array([1, 4])"
   ]
  },
  {
   "cell_type": "code",
   "execution_count": 75,
   "metadata": {},
   "outputs": [
    {
     "data": {
      "text/plain": [
       "1"
      ]
     },
     "execution_count": 75,
     "metadata": {},
     "output_type": "execute_result"
    }
   ],
   "source": [
    "def const(x):\n",
    "    return 1\n",
    "const(array([0, 2])) # returns 1 instead of array([1, 1])"
   ]
  },
  {
   "cell_type": "code",
   "execution_count": 76,
   "metadata": {
    "tags": [
     "raises-exception"
    ]
   },
   "outputs": [
    {
     "ename": "ValueError",
     "evalue": "The truth value of an array with more than one element is ambiguous. Use a.any() or a.all()",
     "output_type": "error",
     "traceback": [
      "\u001b[0;31m---------------------------------------------------------------------------\u001b[0m",
      "\u001b[0;31mValueError\u001b[0m                                Traceback (most recent call last)",
      "\u001b[0;32m<ipython-input-76-4e4a6abe9ca8>\u001b[0m in \u001b[0;36m<module>\u001b[0;34m\u001b[0m\n\u001b[1;32m      5\u001b[0m         \u001b[0;32mreturn\u001b[0m \u001b[0;36m0.\u001b[0m\u001b[0;34m\u001b[0m\u001b[0;34m\u001b[0m\u001b[0m\n\u001b[1;32m      6\u001b[0m \u001b[0;34m\u001b[0m\u001b[0m\n\u001b[0;32m----> 7\u001b[0;31m \u001b[0mheaviside\u001b[0m\u001b[0;34m(\u001b[0m\u001b[0marray\u001b[0m\u001b[0;34m(\u001b[0m\u001b[0;34m[\u001b[0m\u001b[0;34m-\u001b[0m\u001b[0;36m1\u001b[0m\u001b[0;34m,\u001b[0m \u001b[0;36m2\u001b[0m\u001b[0;34m]\u001b[0m\u001b[0;34m)\u001b[0m\u001b[0;34m)\u001b[0m \u001b[0;31m# error\u001b[0m\u001b[0;34m\u001b[0m\u001b[0;34m\u001b[0m\u001b[0m\n\u001b[0m",
      "\u001b[0;32m<ipython-input-76-4e4a6abe9ca8>\u001b[0m in \u001b[0;36mheaviside\u001b[0;34m(x)\u001b[0m\n\u001b[1;32m      1\u001b[0m \u001b[0;32mdef\u001b[0m \u001b[0mheaviside\u001b[0m\u001b[0;34m(\u001b[0m\u001b[0mx\u001b[0m\u001b[0;34m)\u001b[0m\u001b[0;34m:\u001b[0m\u001b[0;34m\u001b[0m\u001b[0;34m\u001b[0m\u001b[0m\n\u001b[0;32m----> 2\u001b[0;31m     \u001b[0;32mif\u001b[0m \u001b[0mx\u001b[0m \u001b[0;34m>=\u001b[0m \u001b[0;36m0\u001b[0m\u001b[0;34m:\u001b[0m\u001b[0;34m\u001b[0m\u001b[0;34m\u001b[0m\u001b[0m\n\u001b[0m\u001b[1;32m      3\u001b[0m         \u001b[0;32mreturn\u001b[0m \u001b[0;36m1.\u001b[0m\u001b[0;34m\u001b[0m\u001b[0;34m\u001b[0m\u001b[0m\n\u001b[1;32m      4\u001b[0m     \u001b[0;32melse\u001b[0m\u001b[0;34m:\u001b[0m\u001b[0;34m\u001b[0m\u001b[0;34m\u001b[0m\u001b[0m\n\u001b[1;32m      5\u001b[0m         \u001b[0;32mreturn\u001b[0m \u001b[0;36m0.\u001b[0m\u001b[0;34m\u001b[0m\u001b[0;34m\u001b[0m\u001b[0m\n",
      "\u001b[0;31mValueError\u001b[0m: The truth value of an array with more than one element is ambiguous. Use a.any() or a.all()"
     ]
    }
   ],
   "source": [
    "def heaviside(x):\n",
    "    if x >= 0:\n",
    "        return 1.\n",
    "    else: \n",
    "        return 0.\n",
    " \n",
    "heaviside(array([-1, 2])) # error"
   ]
  },
  {
   "cell_type": "code",
   "execution_count": 77,
   "metadata": {},
   "outputs": [
    {
     "data": {
      "text/plain": [
       "array([0., 1.])"
      ]
     },
     "execution_count": 77,
     "metadata": {},
     "output_type": "execute_result"
    }
   ],
   "source": [
    "vheaviside = vectorize(heaviside)\n",
    "vheaviside(array([-1, 2])) # array([0, 1]) as expected"
   ]
  },
  {
   "cell_type": "code",
   "execution_count": 78,
   "metadata": {},
   "outputs": [],
   "source": [
    "%matplotlib notebook\n",
    "from matplotlib.pyplot import *"
   ]
  },
  {
   "cell_type": "code",
   "execution_count": 79,
   "metadata": {},
   "outputs": [
    {
     "data": {
      "application/javascript": [
       "/* Put everything inside the global mpl namespace */\n",
       "window.mpl = {};\n",
       "\n",
       "\n",
       "mpl.get_websocket_type = function() {\n",
       "    if (typeof(WebSocket) !== 'undefined') {\n",
       "        return WebSocket;\n",
       "    } else if (typeof(MozWebSocket) !== 'undefined') {\n",
       "        return MozWebSocket;\n",
       "    } else {\n",
       "        alert('Your browser does not have WebSocket support. ' +\n",
       "              'Please try Chrome, Safari or Firefox ≥ 6. ' +\n",
       "              'Firefox 4 and 5 are also supported but you ' +\n",
       "              'have to enable WebSockets in about:config.');\n",
       "    };\n",
       "}\n",
       "\n",
       "mpl.figure = function(figure_id, websocket, ondownload, parent_element) {\n",
       "    this.id = figure_id;\n",
       "\n",
       "    this.ws = websocket;\n",
       "\n",
       "    this.supports_binary = (this.ws.binaryType != undefined);\n",
       "\n",
       "    if (!this.supports_binary) {\n",
       "        var warnings = document.getElementById(\"mpl-warnings\");\n",
       "        if (warnings) {\n",
       "            warnings.style.display = 'block';\n",
       "            warnings.textContent = (\n",
       "                \"This browser does not support binary websocket messages. \" +\n",
       "                    \"Performance may be slow.\");\n",
       "        }\n",
       "    }\n",
       "\n",
       "    this.imageObj = new Image();\n",
       "\n",
       "    this.context = undefined;\n",
       "    this.message = undefined;\n",
       "    this.canvas = undefined;\n",
       "    this.rubberband_canvas = undefined;\n",
       "    this.rubberband_context = undefined;\n",
       "    this.format_dropdown = undefined;\n",
       "\n",
       "    this.image_mode = 'full';\n",
       "\n",
       "    this.root = $('<div/>');\n",
       "    this._root_extra_style(this.root)\n",
       "    this.root.attr('style', 'display: inline-block');\n",
       "\n",
       "    $(parent_element).append(this.root);\n",
       "\n",
       "    this._init_header(this);\n",
       "    this._init_canvas(this);\n",
       "    this._init_toolbar(this);\n",
       "\n",
       "    var fig = this;\n",
       "\n",
       "    this.waiting = false;\n",
       "\n",
       "    this.ws.onopen =  function () {\n",
       "            fig.send_message(\"supports_binary\", {value: fig.supports_binary});\n",
       "            fig.send_message(\"send_image_mode\", {});\n",
       "            if (mpl.ratio != 1) {\n",
       "                fig.send_message(\"set_dpi_ratio\", {'dpi_ratio': mpl.ratio});\n",
       "            }\n",
       "            fig.send_message(\"refresh\", {});\n",
       "        }\n",
       "\n",
       "    this.imageObj.onload = function() {\n",
       "            if (fig.image_mode == 'full') {\n",
       "                // Full images could contain transparency (where diff images\n",
       "                // almost always do), so we need to clear the canvas so that\n",
       "                // there is no ghosting.\n",
       "                fig.context.clearRect(0, 0, fig.canvas.width, fig.canvas.height);\n",
       "            }\n",
       "            fig.context.drawImage(fig.imageObj, 0, 0);\n",
       "        };\n",
       "\n",
       "    this.imageObj.onunload = function() {\n",
       "        fig.ws.close();\n",
       "    }\n",
       "\n",
       "    this.ws.onmessage = this._make_on_message_function(this);\n",
       "\n",
       "    this.ondownload = ondownload;\n",
       "}\n",
       "\n",
       "mpl.figure.prototype._init_header = function() {\n",
       "    var titlebar = $(\n",
       "        '<div class=\"ui-dialog-titlebar ui-widget-header ui-corner-all ' +\n",
       "        'ui-helper-clearfix\"/>');\n",
       "    var titletext = $(\n",
       "        '<div class=\"ui-dialog-title\" style=\"width: 100%; ' +\n",
       "        'text-align: center; padding: 3px;\"/>');\n",
       "    titlebar.append(titletext)\n",
       "    this.root.append(titlebar);\n",
       "    this.header = titletext[0];\n",
       "}\n",
       "\n",
       "\n",
       "\n",
       "mpl.figure.prototype._canvas_extra_style = function(canvas_div) {\n",
       "\n",
       "}\n",
       "\n",
       "\n",
       "mpl.figure.prototype._root_extra_style = function(canvas_div) {\n",
       "\n",
       "}\n",
       "\n",
       "mpl.figure.prototype._init_canvas = function() {\n",
       "    var fig = this;\n",
       "\n",
       "    var canvas_div = $('<div/>');\n",
       "\n",
       "    canvas_div.attr('style', 'position: relative; clear: both; outline: 0');\n",
       "\n",
       "    function canvas_keyboard_event(event) {\n",
       "        return fig.key_event(event, event['data']);\n",
       "    }\n",
       "\n",
       "    canvas_div.keydown('key_press', canvas_keyboard_event);\n",
       "    canvas_div.keyup('key_release', canvas_keyboard_event);\n",
       "    this.canvas_div = canvas_div\n",
       "    this._canvas_extra_style(canvas_div)\n",
       "    this.root.append(canvas_div);\n",
       "\n",
       "    var canvas = $('<canvas/>');\n",
       "    canvas.addClass('mpl-canvas');\n",
       "    canvas.attr('style', \"left: 0; top: 0; z-index: 0; outline: 0\")\n",
       "\n",
       "    this.canvas = canvas[0];\n",
       "    this.context = canvas[0].getContext(\"2d\");\n",
       "\n",
       "    var backingStore = this.context.backingStorePixelRatio ||\n",
       "\tthis.context.webkitBackingStorePixelRatio ||\n",
       "\tthis.context.mozBackingStorePixelRatio ||\n",
       "\tthis.context.msBackingStorePixelRatio ||\n",
       "\tthis.context.oBackingStorePixelRatio ||\n",
       "\tthis.context.backingStorePixelRatio || 1;\n",
       "\n",
       "    mpl.ratio = (window.devicePixelRatio || 1) / backingStore;\n",
       "\n",
       "    var rubberband = $('<canvas/>');\n",
       "    rubberband.attr('style', \"position: absolute; left: 0; top: 0; z-index: 1;\")\n",
       "\n",
       "    var pass_mouse_events = true;\n",
       "\n",
       "    canvas_div.resizable({\n",
       "        start: function(event, ui) {\n",
       "            pass_mouse_events = false;\n",
       "        },\n",
       "        resize: function(event, ui) {\n",
       "            fig.request_resize(ui.size.width, ui.size.height);\n",
       "        },\n",
       "        stop: function(event, ui) {\n",
       "            pass_mouse_events = true;\n",
       "            fig.request_resize(ui.size.width, ui.size.height);\n",
       "        },\n",
       "    });\n",
       "\n",
       "    function mouse_event_fn(event) {\n",
       "        if (pass_mouse_events)\n",
       "            return fig.mouse_event(event, event['data']);\n",
       "    }\n",
       "\n",
       "    rubberband.mousedown('button_press', mouse_event_fn);\n",
       "    rubberband.mouseup('button_release', mouse_event_fn);\n",
       "    // Throttle sequential mouse events to 1 every 20ms.\n",
       "    rubberband.mousemove('motion_notify', mouse_event_fn);\n",
       "\n",
       "    rubberband.mouseenter('figure_enter', mouse_event_fn);\n",
       "    rubberband.mouseleave('figure_leave', mouse_event_fn);\n",
       "\n",
       "    canvas_div.on(\"wheel\", function (event) {\n",
       "        event = event.originalEvent;\n",
       "        event['data'] = 'scroll'\n",
       "        if (event.deltaY < 0) {\n",
       "            event.step = 1;\n",
       "        } else {\n",
       "            event.step = -1;\n",
       "        }\n",
       "        mouse_event_fn(event);\n",
       "    });\n",
       "\n",
       "    canvas_div.append(canvas);\n",
       "    canvas_div.append(rubberband);\n",
       "\n",
       "    this.rubberband = rubberband;\n",
       "    this.rubberband_canvas = rubberband[0];\n",
       "    this.rubberband_context = rubberband[0].getContext(\"2d\");\n",
       "    this.rubberband_context.strokeStyle = \"#000000\";\n",
       "\n",
       "    this._resize_canvas = function(width, height) {\n",
       "        // Keep the size of the canvas, canvas container, and rubber band\n",
       "        // canvas in synch.\n",
       "        canvas_div.css('width', width)\n",
       "        canvas_div.css('height', height)\n",
       "\n",
       "        canvas.attr('width', width * mpl.ratio);\n",
       "        canvas.attr('height', height * mpl.ratio);\n",
       "        canvas.attr('style', 'width: ' + width + 'px; height: ' + height + 'px;');\n",
       "\n",
       "        rubberband.attr('width', width);\n",
       "        rubberband.attr('height', height);\n",
       "    }\n",
       "\n",
       "    // Set the figure to an initial 600x600px, this will subsequently be updated\n",
       "    // upon first draw.\n",
       "    this._resize_canvas(600, 600);\n",
       "\n",
       "    // Disable right mouse context menu.\n",
       "    $(this.rubberband_canvas).bind(\"contextmenu\",function(e){\n",
       "        return false;\n",
       "    });\n",
       "\n",
       "    function set_focus () {\n",
       "        canvas.focus();\n",
       "        canvas_div.focus();\n",
       "    }\n",
       "\n",
       "    window.setTimeout(set_focus, 100);\n",
       "}\n",
       "\n",
       "mpl.figure.prototype._init_toolbar = function() {\n",
       "    var fig = this;\n",
       "\n",
       "    var nav_element = $('<div/>');\n",
       "    nav_element.attr('style', 'width: 100%');\n",
       "    this.root.append(nav_element);\n",
       "\n",
       "    // Define a callback function for later on.\n",
       "    function toolbar_event(event) {\n",
       "        return fig.toolbar_button_onclick(event['data']);\n",
       "    }\n",
       "    function toolbar_mouse_event(event) {\n",
       "        return fig.toolbar_button_onmouseover(event['data']);\n",
       "    }\n",
       "\n",
       "    for(var toolbar_ind in mpl.toolbar_items) {\n",
       "        var name = mpl.toolbar_items[toolbar_ind][0];\n",
       "        var tooltip = mpl.toolbar_items[toolbar_ind][1];\n",
       "        var image = mpl.toolbar_items[toolbar_ind][2];\n",
       "        var method_name = mpl.toolbar_items[toolbar_ind][3];\n",
       "\n",
       "        if (!name) {\n",
       "            // put a spacer in here.\n",
       "            continue;\n",
       "        }\n",
       "        var button = $('<button/>');\n",
       "        button.addClass('ui-button ui-widget ui-state-default ui-corner-all ' +\n",
       "                        'ui-button-icon-only');\n",
       "        button.attr('role', 'button');\n",
       "        button.attr('aria-disabled', 'false');\n",
       "        button.click(method_name, toolbar_event);\n",
       "        button.mouseover(tooltip, toolbar_mouse_event);\n",
       "\n",
       "        var icon_img = $('<span/>');\n",
       "        icon_img.addClass('ui-button-icon-primary ui-icon');\n",
       "        icon_img.addClass(image);\n",
       "        icon_img.addClass('ui-corner-all');\n",
       "\n",
       "        var tooltip_span = $('<span/>');\n",
       "        tooltip_span.addClass('ui-button-text');\n",
       "        tooltip_span.html(tooltip);\n",
       "\n",
       "        button.append(icon_img);\n",
       "        button.append(tooltip_span);\n",
       "\n",
       "        nav_element.append(button);\n",
       "    }\n",
       "\n",
       "    var fmt_picker_span = $('<span/>');\n",
       "\n",
       "    var fmt_picker = $('<select/>');\n",
       "    fmt_picker.addClass('mpl-toolbar-option ui-widget ui-widget-content');\n",
       "    fmt_picker_span.append(fmt_picker);\n",
       "    nav_element.append(fmt_picker_span);\n",
       "    this.format_dropdown = fmt_picker[0];\n",
       "\n",
       "    for (var ind in mpl.extensions) {\n",
       "        var fmt = mpl.extensions[ind];\n",
       "        var option = $(\n",
       "            '<option/>', {selected: fmt === mpl.default_extension}).html(fmt);\n",
       "        fmt_picker.append(option);\n",
       "    }\n",
       "\n",
       "    // Add hover states to the ui-buttons\n",
       "    $( \".ui-button\" ).hover(\n",
       "        function() { $(this).addClass(\"ui-state-hover\");},\n",
       "        function() { $(this).removeClass(\"ui-state-hover\");}\n",
       "    );\n",
       "\n",
       "    var status_bar = $('<span class=\"mpl-message\"/>');\n",
       "    nav_element.append(status_bar);\n",
       "    this.message = status_bar[0];\n",
       "}\n",
       "\n",
       "mpl.figure.prototype.request_resize = function(x_pixels, y_pixels) {\n",
       "    // Request matplotlib to resize the figure. Matplotlib will then trigger a resize in the client,\n",
       "    // which will in turn request a refresh of the image.\n",
       "    this.send_message('resize', {'width': x_pixels, 'height': y_pixels});\n",
       "}\n",
       "\n",
       "mpl.figure.prototype.send_message = function(type, properties) {\n",
       "    properties['type'] = type;\n",
       "    properties['figure_id'] = this.id;\n",
       "    this.ws.send(JSON.stringify(properties));\n",
       "}\n",
       "\n",
       "mpl.figure.prototype.send_draw_message = function() {\n",
       "    if (!this.waiting) {\n",
       "        this.waiting = true;\n",
       "        this.ws.send(JSON.stringify({type: \"draw\", figure_id: this.id}));\n",
       "    }\n",
       "}\n",
       "\n",
       "\n",
       "mpl.figure.prototype.handle_save = function(fig, msg) {\n",
       "    var format_dropdown = fig.format_dropdown;\n",
       "    var format = format_dropdown.options[format_dropdown.selectedIndex].value;\n",
       "    fig.ondownload(fig, format);\n",
       "}\n",
       "\n",
       "\n",
       "mpl.figure.prototype.handle_resize = function(fig, msg) {\n",
       "    var size = msg['size'];\n",
       "    if (size[0] != fig.canvas.width || size[1] != fig.canvas.height) {\n",
       "        fig._resize_canvas(size[0], size[1]);\n",
       "        fig.send_message(\"refresh\", {});\n",
       "    };\n",
       "}\n",
       "\n",
       "mpl.figure.prototype.handle_rubberband = function(fig, msg) {\n",
       "    var x0 = msg['x0'] / mpl.ratio;\n",
       "    var y0 = (fig.canvas.height - msg['y0']) / mpl.ratio;\n",
       "    var x1 = msg['x1'] / mpl.ratio;\n",
       "    var y1 = (fig.canvas.height - msg['y1']) / mpl.ratio;\n",
       "    x0 = Math.floor(x0) + 0.5;\n",
       "    y0 = Math.floor(y0) + 0.5;\n",
       "    x1 = Math.floor(x1) + 0.5;\n",
       "    y1 = Math.floor(y1) + 0.5;\n",
       "    var min_x = Math.min(x0, x1);\n",
       "    var min_y = Math.min(y0, y1);\n",
       "    var width = Math.abs(x1 - x0);\n",
       "    var height = Math.abs(y1 - y0);\n",
       "\n",
       "    fig.rubberband_context.clearRect(\n",
       "        0, 0, fig.canvas.width / mpl.ratio, fig.canvas.height / mpl.ratio);\n",
       "\n",
       "    fig.rubberband_context.strokeRect(min_x, min_y, width, height);\n",
       "}\n",
       "\n",
       "mpl.figure.prototype.handle_figure_label = function(fig, msg) {\n",
       "    // Updates the figure title.\n",
       "    fig.header.textContent = msg['label'];\n",
       "}\n",
       "\n",
       "mpl.figure.prototype.handle_cursor = function(fig, msg) {\n",
       "    var cursor = msg['cursor'];\n",
       "    switch(cursor)\n",
       "    {\n",
       "    case 0:\n",
       "        cursor = 'pointer';\n",
       "        break;\n",
       "    case 1:\n",
       "        cursor = 'default';\n",
       "        break;\n",
       "    case 2:\n",
       "        cursor = 'crosshair';\n",
       "        break;\n",
       "    case 3:\n",
       "        cursor = 'move';\n",
       "        break;\n",
       "    }\n",
       "    fig.rubberband_canvas.style.cursor = cursor;\n",
       "}\n",
       "\n",
       "mpl.figure.prototype.handle_message = function(fig, msg) {\n",
       "    fig.message.textContent = msg['message'];\n",
       "}\n",
       "\n",
       "mpl.figure.prototype.handle_draw = function(fig, msg) {\n",
       "    // Request the server to send over a new figure.\n",
       "    fig.send_draw_message();\n",
       "}\n",
       "\n",
       "mpl.figure.prototype.handle_image_mode = function(fig, msg) {\n",
       "    fig.image_mode = msg['mode'];\n",
       "}\n",
       "\n",
       "mpl.figure.prototype.updated_canvas_event = function() {\n",
       "    // Called whenever the canvas gets updated.\n",
       "    this.send_message(\"ack\", {});\n",
       "}\n",
       "\n",
       "// A function to construct a web socket function for onmessage handling.\n",
       "// Called in the figure constructor.\n",
       "mpl.figure.prototype._make_on_message_function = function(fig) {\n",
       "    return function socket_on_message(evt) {\n",
       "        if (evt.data instanceof Blob) {\n",
       "            /* FIXME: We get \"Resource interpreted as Image but\n",
       "             * transferred with MIME type text/plain:\" errors on\n",
       "             * Chrome.  But how to set the MIME type?  It doesn't seem\n",
       "             * to be part of the websocket stream */\n",
       "            evt.data.type = \"image/png\";\n",
       "\n",
       "            /* Free the memory for the previous frames */\n",
       "            if (fig.imageObj.src) {\n",
       "                (window.URL || window.webkitURL).revokeObjectURL(\n",
       "                    fig.imageObj.src);\n",
       "            }\n",
       "\n",
       "            fig.imageObj.src = (window.URL || window.webkitURL).createObjectURL(\n",
       "                evt.data);\n",
       "            fig.updated_canvas_event();\n",
       "            fig.waiting = false;\n",
       "            return;\n",
       "        }\n",
       "        else if (typeof evt.data === 'string' && evt.data.slice(0, 21) == \"data:image/png;base64\") {\n",
       "            fig.imageObj.src = evt.data;\n",
       "            fig.updated_canvas_event();\n",
       "            fig.waiting = false;\n",
       "            return;\n",
       "        }\n",
       "\n",
       "        var msg = JSON.parse(evt.data);\n",
       "        var msg_type = msg['type'];\n",
       "\n",
       "        // Call the  \"handle_{type}\" callback, which takes\n",
       "        // the figure and JSON message as its only arguments.\n",
       "        try {\n",
       "            var callback = fig[\"handle_\" + msg_type];\n",
       "        } catch (e) {\n",
       "            console.log(\"No handler for the '\" + msg_type + \"' message type: \", msg);\n",
       "            return;\n",
       "        }\n",
       "\n",
       "        if (callback) {\n",
       "            try {\n",
       "                // console.log(\"Handling '\" + msg_type + \"' message: \", msg);\n",
       "                callback(fig, msg);\n",
       "            } catch (e) {\n",
       "                console.log(\"Exception inside the 'handler_\" + msg_type + \"' callback:\", e, e.stack, msg);\n",
       "            }\n",
       "        }\n",
       "    };\n",
       "}\n",
       "\n",
       "// from http://stackoverflow.com/questions/1114465/getting-mouse-location-in-canvas\n",
       "mpl.findpos = function(e) {\n",
       "    //this section is from http://www.quirksmode.org/js/events_properties.html\n",
       "    var targ;\n",
       "    if (!e)\n",
       "        e = window.event;\n",
       "    if (e.target)\n",
       "        targ = e.target;\n",
       "    else if (e.srcElement)\n",
       "        targ = e.srcElement;\n",
       "    if (targ.nodeType == 3) // defeat Safari bug\n",
       "        targ = targ.parentNode;\n",
       "\n",
       "    // jQuery normalizes the pageX and pageY\n",
       "    // pageX,Y are the mouse positions relative to the document\n",
       "    // offset() returns the position of the element relative to the document\n",
       "    var x = e.pageX - $(targ).offset().left;\n",
       "    var y = e.pageY - $(targ).offset().top;\n",
       "\n",
       "    return {\"x\": x, \"y\": y};\n",
       "};\n",
       "\n",
       "/*\n",
       " * return a copy of an object with only non-object keys\n",
       " * we need this to avoid circular references\n",
       " * http://stackoverflow.com/a/24161582/3208463\n",
       " */\n",
       "function simpleKeys (original) {\n",
       "  return Object.keys(original).reduce(function (obj, key) {\n",
       "    if (typeof original[key] !== 'object')\n",
       "        obj[key] = original[key]\n",
       "    return obj;\n",
       "  }, {});\n",
       "}\n",
       "\n",
       "mpl.figure.prototype.mouse_event = function(event, name) {\n",
       "    var canvas_pos = mpl.findpos(event)\n",
       "\n",
       "    if (name === 'button_press')\n",
       "    {\n",
       "        this.canvas.focus();\n",
       "        this.canvas_div.focus();\n",
       "    }\n",
       "\n",
       "    var x = canvas_pos.x * mpl.ratio;\n",
       "    var y = canvas_pos.y * mpl.ratio;\n",
       "\n",
       "    this.send_message(name, {x: x, y: y, button: event.button,\n",
       "                             step: event.step,\n",
       "                             guiEvent: simpleKeys(event)});\n",
       "\n",
       "    /* This prevents the web browser from automatically changing to\n",
       "     * the text insertion cursor when the button is pressed.  We want\n",
       "     * to control all of the cursor setting manually through the\n",
       "     * 'cursor' event from matplotlib */\n",
       "    event.preventDefault();\n",
       "    return false;\n",
       "}\n",
       "\n",
       "mpl.figure.prototype._key_event_extra = function(event, name) {\n",
       "    // Handle any extra behaviour associated with a key event\n",
       "}\n",
       "\n",
       "mpl.figure.prototype.key_event = function(event, name) {\n",
       "\n",
       "    // Prevent repeat events\n",
       "    if (name == 'key_press')\n",
       "    {\n",
       "        if (event.which === this._key)\n",
       "            return;\n",
       "        else\n",
       "            this._key = event.which;\n",
       "    }\n",
       "    if (name == 'key_release')\n",
       "        this._key = null;\n",
       "\n",
       "    var value = '';\n",
       "    if (event.ctrlKey && event.which != 17)\n",
       "        value += \"ctrl+\";\n",
       "    if (event.altKey && event.which != 18)\n",
       "        value += \"alt+\";\n",
       "    if (event.shiftKey && event.which != 16)\n",
       "        value += \"shift+\";\n",
       "\n",
       "    value += 'k';\n",
       "    value += event.which.toString();\n",
       "\n",
       "    this._key_event_extra(event, name);\n",
       "\n",
       "    this.send_message(name, {key: value,\n",
       "                             guiEvent: simpleKeys(event)});\n",
       "    return false;\n",
       "}\n",
       "\n",
       "mpl.figure.prototype.toolbar_button_onclick = function(name) {\n",
       "    if (name == 'download') {\n",
       "        this.handle_save(this, null);\n",
       "    } else {\n",
       "        this.send_message(\"toolbar_button\", {name: name});\n",
       "    }\n",
       "};\n",
       "\n",
       "mpl.figure.prototype.toolbar_button_onmouseover = function(tooltip) {\n",
       "    this.message.textContent = tooltip;\n",
       "};\n",
       "mpl.toolbar_items = [[\"Home\", \"Reset original view\", \"fa fa-home icon-home\", \"home\"], [\"Back\", \"Back to previous view\", \"fa fa-arrow-left icon-arrow-left\", \"back\"], [\"Forward\", \"Forward to next view\", \"fa fa-arrow-right icon-arrow-right\", \"forward\"], [\"\", \"\", \"\", \"\"], [\"Pan\", \"Pan axes with left mouse, zoom with right\", \"fa fa-arrows icon-move\", \"pan\"], [\"Zoom\", \"Zoom to rectangle\", \"fa fa-square-o icon-check-empty\", \"zoom\"], [\"\", \"\", \"\", \"\"], [\"Download\", \"Download plot\", \"fa fa-floppy-o icon-save\", \"download\"]];\n",
       "\n",
       "mpl.extensions = [\"eps\", \"jpeg\", \"pdf\", \"png\", \"ps\", \"raw\", \"svg\", \"tif\"];\n",
       "\n",
       "mpl.default_extension = \"png\";var comm_websocket_adapter = function(comm) {\n",
       "    // Create a \"websocket\"-like object which calls the given IPython comm\n",
       "    // object with the appropriate methods. Currently this is a non binary\n",
       "    // socket, so there is still some room for performance tuning.\n",
       "    var ws = {};\n",
       "\n",
       "    ws.close = function() {\n",
       "        comm.close()\n",
       "    };\n",
       "    ws.send = function(m) {\n",
       "        //console.log('sending', m);\n",
       "        comm.send(m);\n",
       "    };\n",
       "    // Register the callback with on_msg.\n",
       "    comm.on_msg(function(msg) {\n",
       "        //console.log('receiving', msg['content']['data'], msg);\n",
       "        // Pass the mpl event to the overridden (by mpl) onmessage function.\n",
       "        ws.onmessage(msg['content']['data'])\n",
       "    });\n",
       "    return ws;\n",
       "}\n",
       "\n",
       "mpl.mpl_figure_comm = function(comm, msg) {\n",
       "    // This is the function which gets called when the mpl process\n",
       "    // starts-up an IPython Comm through the \"matplotlib\" channel.\n",
       "\n",
       "    var id = msg.content.data.id;\n",
       "    // Get hold of the div created by the display call when the Comm\n",
       "    // socket was opened in Python.\n",
       "    var element = $(\"#\" + id);\n",
       "    var ws_proxy = comm_websocket_adapter(comm)\n",
       "\n",
       "    function ondownload(figure, format) {\n",
       "        window.open(figure.imageObj.src);\n",
       "    }\n",
       "\n",
       "    var fig = new mpl.figure(id, ws_proxy,\n",
       "                           ondownload,\n",
       "                           element.get(0));\n",
       "\n",
       "    // Call onopen now - mpl needs it, as it is assuming we've passed it a real\n",
       "    // web socket which is closed, not our websocket->open comm proxy.\n",
       "    ws_proxy.onopen();\n",
       "\n",
       "    fig.parent_element = element.get(0);\n",
       "    fig.cell_info = mpl.find_output_cell(\"<div id='\" + id + \"'></div>\");\n",
       "    if (!fig.cell_info) {\n",
       "        console.error(\"Failed to find cell for figure\", id, fig);\n",
       "        return;\n",
       "    }\n",
       "\n",
       "    var output_index = fig.cell_info[2]\n",
       "    var cell = fig.cell_info[0];\n",
       "\n",
       "};\n",
       "\n",
       "mpl.figure.prototype.handle_close = function(fig, msg) {\n",
       "    var width = fig.canvas.width/mpl.ratio\n",
       "    fig.root.unbind('remove')\n",
       "\n",
       "    // Update the output cell to use the data from the current canvas.\n",
       "    fig.push_to_output();\n",
       "    var dataURL = fig.canvas.toDataURL();\n",
       "    // Re-enable the keyboard manager in IPython - without this line, in FF,\n",
       "    // the notebook keyboard shortcuts fail.\n",
       "    IPython.keyboard_manager.enable()\n",
       "    $(fig.parent_element).html('<img src=\"' + dataURL + '\" width=\"' + width + '\">');\n",
       "    fig.close_ws(fig, msg);\n",
       "}\n",
       "\n",
       "mpl.figure.prototype.close_ws = function(fig, msg){\n",
       "    fig.send_message('closing', msg);\n",
       "    // fig.ws.close()\n",
       "}\n",
       "\n",
       "mpl.figure.prototype.push_to_output = function(remove_interactive) {\n",
       "    // Turn the data on the canvas into data in the output cell.\n",
       "    var width = this.canvas.width/mpl.ratio\n",
       "    var dataURL = this.canvas.toDataURL();\n",
       "    this.cell_info[1]['text/html'] = '<img src=\"' + dataURL + '\" width=\"' + width + '\">';\n",
       "}\n",
       "\n",
       "mpl.figure.prototype.updated_canvas_event = function() {\n",
       "    // Tell IPython that the notebook contents must change.\n",
       "    IPython.notebook.set_dirty(true);\n",
       "    this.send_message(\"ack\", {});\n",
       "    var fig = this;\n",
       "    // Wait a second, then push the new image to the DOM so\n",
       "    // that it is saved nicely (might be nice to debounce this).\n",
       "    setTimeout(function () { fig.push_to_output() }, 1000);\n",
       "}\n",
       "\n",
       "mpl.figure.prototype._init_toolbar = function() {\n",
       "    var fig = this;\n",
       "\n",
       "    var nav_element = $('<div/>');\n",
       "    nav_element.attr('style', 'width: 100%');\n",
       "    this.root.append(nav_element);\n",
       "\n",
       "    // Define a callback function for later on.\n",
       "    function toolbar_event(event) {\n",
       "        return fig.toolbar_button_onclick(event['data']);\n",
       "    }\n",
       "    function toolbar_mouse_event(event) {\n",
       "        return fig.toolbar_button_onmouseover(event['data']);\n",
       "    }\n",
       "\n",
       "    for(var toolbar_ind in mpl.toolbar_items){\n",
       "        var name = mpl.toolbar_items[toolbar_ind][0];\n",
       "        var tooltip = mpl.toolbar_items[toolbar_ind][1];\n",
       "        var image = mpl.toolbar_items[toolbar_ind][2];\n",
       "        var method_name = mpl.toolbar_items[toolbar_ind][3];\n",
       "\n",
       "        if (!name) { continue; };\n",
       "\n",
       "        var button = $('<button class=\"btn btn-default\" href=\"#\" title=\"' + name + '\"><i class=\"fa ' + image + ' fa-lg\"></i></button>');\n",
       "        button.click(method_name, toolbar_event);\n",
       "        button.mouseover(tooltip, toolbar_mouse_event);\n",
       "        nav_element.append(button);\n",
       "    }\n",
       "\n",
       "    // Add the status bar.\n",
       "    var status_bar = $('<span class=\"mpl-message\" style=\"text-align:right; float: right;\"/>');\n",
       "    nav_element.append(status_bar);\n",
       "    this.message = status_bar[0];\n",
       "\n",
       "    // Add the close button to the window.\n",
       "    var buttongrp = $('<div class=\"btn-group inline pull-right\"></div>');\n",
       "    var button = $('<button class=\"btn btn-mini btn-primary\" href=\"#\" title=\"Stop Interaction\"><i class=\"fa fa-power-off icon-remove icon-large\"></i></button>');\n",
       "    button.click(function (evt) { fig.handle_close(fig, {}); } );\n",
       "    button.mouseover('Stop Interaction', toolbar_mouse_event);\n",
       "    buttongrp.append(button);\n",
       "    var titlebar = this.root.find($('.ui-dialog-titlebar'));\n",
       "    titlebar.prepend(buttongrp);\n",
       "}\n",
       "\n",
       "mpl.figure.prototype._root_extra_style = function(el){\n",
       "    var fig = this\n",
       "    el.on(\"remove\", function(){\n",
       "\tfig.close_ws(fig, {});\n",
       "    });\n",
       "}\n",
       "\n",
       "mpl.figure.prototype._canvas_extra_style = function(el){\n",
       "    // this is important to make the div 'focusable\n",
       "    el.attr('tabindex', 0)\n",
       "    // reach out to IPython and tell the keyboard manager to turn it's self\n",
       "    // off when our div gets focus\n",
       "\n",
       "    // location in version 3\n",
       "    if (IPython.notebook.keyboard_manager) {\n",
       "        IPython.notebook.keyboard_manager.register_events(el);\n",
       "    }\n",
       "    else {\n",
       "        // location in version 2\n",
       "        IPython.keyboard_manager.register_events(el);\n",
       "    }\n",
       "\n",
       "}\n",
       "\n",
       "mpl.figure.prototype._key_event_extra = function(event, name) {\n",
       "    var manager = IPython.notebook.keyboard_manager;\n",
       "    if (!manager)\n",
       "        manager = IPython.keyboard_manager;\n",
       "\n",
       "    // Check for shift+enter\n",
       "    if (event.shiftKey && event.which == 13) {\n",
       "        this.canvas_div.blur();\n",
       "        // select the cell after this one\n",
       "        var index = IPython.notebook.find_cell_index(this.cell_info[0]);\n",
       "        IPython.notebook.select(index + 1);\n",
       "    }\n",
       "}\n",
       "\n",
       "mpl.figure.prototype.handle_save = function(fig, msg) {\n",
       "    fig.ondownload(fig, null);\n",
       "}\n",
       "\n",
       "\n",
       "mpl.find_output_cell = function(html_output) {\n",
       "    // Return the cell and output element which can be found *uniquely* in the notebook.\n",
       "    // Note - this is a bit hacky, but it is done because the \"notebook_saving.Notebook\"\n",
       "    // IPython event is triggered only after the cells have been serialised, which for\n",
       "    // our purposes (turning an active figure into a static one), is too late.\n",
       "    var cells = IPython.notebook.get_cells();\n",
       "    var ncells = cells.length;\n",
       "    for (var i=0; i<ncells; i++) {\n",
       "        var cell = cells[i];\n",
       "        if (cell.cell_type === 'code'){\n",
       "            for (var j=0; j<cell.output_area.outputs.length; j++) {\n",
       "                var data = cell.output_area.outputs[j];\n",
       "                if (data.data) {\n",
       "                    // IPython >= 3 moved mimebundle to data attribute of output\n",
       "                    data = data.data;\n",
       "                }\n",
       "                if (data['text/html'] == html_output) {\n",
       "                    return [cell, data, j];\n",
       "                }\n",
       "            }\n",
       "        }\n",
       "    }\n",
       "}\n",
       "\n",
       "// Register the function which deals with the matplotlib target/channel.\n",
       "// The kernel may be null if the page has been refreshed.\n",
       "if (IPython.notebook.kernel != null) {\n",
       "    IPython.notebook.kernel.comm_manager.register_target('matplotlib', mpl.mpl_figure_comm);\n",
       "}\n"
      ],
      "text/plain": [
       "<IPython.core.display.Javascript object>"
      ]
     },
     "metadata": {},
     "output_type": "display_data"
    },
    {
     "data": {
      "text/html": [
       "<img src=\"data:image/png;base64,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\" width=\"639.85\">"
      ],
      "text/plain": [
       "<IPython.core.display.HTML object>"
      ]
     },
     "metadata": {},
     "output_type": "display_data"
    },
    {
     "data": {
      "text/plain": [
       "[-1.5, 1.5, -0.5, 1.5]"
      ]
     },
     "execution_count": 79,
     "metadata": {},
     "output_type": "execute_result"
    }
   ],
   "source": [
    "xvals = linspace(-1, 1, 100)\n",
    "plot(xvals, vectorize(heaviside)(xvals))\n",
    "axis([-1.5, 1.5, -0.5, 1.5])"
   ]
  },
  {
   "cell_type": "code",
   "execution_count": 80,
   "metadata": {},
   "outputs": [
    {
     "data": {
      "text/plain": [
       "array([0., 1.])"
      ]
     },
     "execution_count": 80,
     "metadata": {},
     "output_type": "execute_result"
    }
   ],
   "source": [
    "@vectorize \n",
    "def heaviside(x): \n",
    "    if x >= 0: \n",
    "       return 1. \n",
    "    else:  \n",
    "       return 0. \n",
    "# and a call of this results in:\n",
    "heaviside(array([-1, 2])) # array([0, 1])"
   ]
  },
  {
   "cell_type": "markdown",
   "metadata": {},
   "source": [
    "### 4.8.2 Array functions"
   ]
  },
  {
   "cell_type": "code",
   "execution_count": 81,
   "metadata": {},
   "outputs": [
    {
     "data": {
      "text/plain": [
       "array([[1, 2, 3, 4],\n",
       "       [5, 6, 7, 8]])"
      ]
     },
     "execution_count": 81,
     "metadata": {},
     "output_type": "execute_result"
    }
   ],
   "source": [
    "A=arange(1,9).reshape(2,-1)\n",
    "A"
   ]
  },
  {
   "cell_type": "code",
   "execution_count": 82,
   "metadata": {},
   "outputs": [
    {
     "data": {
      "text/plain": [
       "36"
      ]
     },
     "execution_count": 82,
     "metadata": {},
     "output_type": "execute_result"
    }
   ],
   "source": [
    "sum(A) # 36"
   ]
  },
  {
   "cell_type": "code",
   "execution_count": 83,
   "metadata": {},
   "outputs": [
    {
     "data": {
      "text/plain": [
       "array([ 6,  8, 10, 12])"
      ]
     },
     "execution_count": 83,
     "metadata": {},
     "output_type": "execute_result"
    }
   ],
   "source": [
    "sum(A, axis=0) # array([ 6, 8, 10, 12])"
   ]
  },
  {
   "cell_type": "code",
   "execution_count": 84,
   "metadata": {},
   "outputs": [
    {
     "data": {
      "text/plain": [
       "array([10, 26])"
      ]
     },
     "execution_count": 84,
     "metadata": {},
     "output_type": "execute_result"
    }
   ],
   "source": [
    "A.sum(axis=1) # array([10, 26])"
   ]
  },
  {
   "cell_type": "markdown",
   "metadata": {},
   "source": [
    "## 4.9 Linear algebra methods in SciPy\n",
    "### 4.9.1 Solving several linear equation systems with LU"
   ]
  },
  {
   "cell_type": "code",
   "execution_count": 85,
   "metadata": {},
   "outputs": [
    {
     "data": {
      "text/plain": [
       "array([[ 1,  2,  0,  4],\n",
       "       [-7,  2,  1,  0],\n",
       "       [ 2,  0,  6, 18],\n",
       "       [ 0,  0,  7, -3]])"
      ]
     },
     "execution_count": 85,
     "metadata": {},
     "output_type": "execute_result"
    }
   ],
   "source": [
    "import scipy.linalg as sl\n",
    "A=array([1,2,0,4,-7,2,1,0,2,0,6,18,0,0,7,-3]).reshape((4,-1))\n",
    "A"
   ]
  },
  {
   "cell_type": "code",
   "execution_count": 86,
   "metadata": {},
   "outputs": [
    {
     "data": {
      "text/plain": [
       "array([0, 1, 2, 3])"
      ]
     },
     "execution_count": 86,
     "metadata": {},
     "output_type": "execute_result"
    }
   ],
   "source": [
    "bi=arange(4)\n",
    "bi"
   ]
  },
  {
   "cell_type": "code",
   "execution_count": 87,
   "metadata": {},
   "outputs": [],
   "source": [
    "[LU,piv] = sl.lu_factor(A)"
   ]
  },
  {
   "cell_type": "code",
   "execution_count": 88,
   "metadata": {},
   "outputs": [
    {
     "data": {
      "text/plain": [
       "array([-0.06170599,  0.07441016,  0.41923775, -0.02177858])"
      ]
     },
     "execution_count": 88,
     "metadata": {},
     "output_type": "execute_result"
    }
   ],
   "source": [
    "import scipy.linalg as sl\n",
    "xi = sl.lu_solve((LU, piv), bi)\n",
    "xi"
   ]
  },
  {
   "cell_type": "markdown",
   "metadata": {},
   "source": [
    "### 4.9.2 Solving a least square problem with SVD\n"
   ]
  },
  {
   "cell_type": "code",
   "execution_count": 89,
   "metadata": {},
   "outputs": [
    {
     "data": {
      "text/plain": [
       "array([[1, 2],\n",
       "       [3, 4],\n",
       "       [5, 6],\n",
       "       [7, 8]])"
      ]
     },
     "execution_count": 89,
     "metadata": {},
     "output_type": "execute_result"
    }
   ],
   "source": [
    "import scipy.linalg as sl \n",
    "A=arange(1,9).reshape(4,-1)\n",
    "A"
   ]
  },
  {
   "cell_type": "code",
   "execution_count": 90,
   "metadata": {},
   "outputs": [
    {
     "data": {
      "text/plain": [
       "array([0, 1, 2, 3])"
      ]
     },
     "execution_count": 90,
     "metadata": {},
     "output_type": "execute_result"
    }
   ],
   "source": [
    "b=arange(4)\n",
    "b"
   ]
  },
  {
   "cell_type": "code",
   "execution_count": 91,
   "metadata": {},
   "outputs": [
    {
     "data": {
      "text/plain": [
       "array([ 1. , -0.5])"
      ]
     },
     "execution_count": 91,
     "metadata": {},
     "output_type": "execute_result"
    }
   ],
   "source": [
    "[U1, Sigma_1, VT] = sl.svd(A, full_matrices = False,\n",
    "                              compute_uv = True) \n",
    "xast = dot(VT.T, dot(U1.T, b) / Sigma_1)\n",
    "xast"
   ]
  },
  {
   "cell_type": "code",
   "execution_count": 92,
   "metadata": {},
   "outputs": [
    {
     "data": {
      "text/plain": [
       "array([1.22124533e-15, 8.88178420e-16, 8.88178420e-16, 0.00000000e+00])"
      ]
     },
     "execution_count": 92,
     "metadata": {},
     "output_type": "execute_result"
    }
   ],
   "source": [
    "r = dot(A, xast) - b # computes the residual\n",
    "r"
   ]
  },
  {
   "cell_type": "code",
   "execution_count": 93,
   "metadata": {},
   "outputs": [
    {
     "data": {
      "text/plain": [
       "1.7519023829470347e-15"
      ]
     },
     "execution_count": 93,
     "metadata": {},
     "output_type": "execute_result"
    }
   ],
   "source": [
    "nr = sl.norm(r, 2) # computes the Euclidean norm of r\n",
    "nr"
   ]
  },
  {
   "cell_type": "markdown",
   "metadata": {},
   "source": [
    "### 4.9.3 More methods\n",
    "No code."
   ]
  }
 ],
 "metadata": {
  "celltoolbar": "Tags",
  "kernelspec": {
   "display_name": "Python 3",
   "language": "python",
   "name": "python3"
  },
  "language_info": {
   "codemirror_mode": {
    "name": "ipython",
    "version": 3
   },
   "file_extension": ".py",
   "mimetype": "text/x-python",
   "name": "python",
   "nbconvert_exporter": "python",
   "pygments_lexer": "ipython3",
   "version": "3.7.6"
  }
 },
 "nbformat": 4,
 "nbformat_minor": 4
}
